{
 "cells": [
  {
   "cell_type": "code",
   "execution_count": 62,
   "id": "542f3457-b2f2-4da4-a3ac-35763df9c4e0",
   "metadata": {},
   "outputs": [],
   "source": [
    "from pyspark.sql import SparkSession, Row\n",
    "from pyspark.sql.functions import col, to_date\n",
    "from pyspark import StorageLevel\n",
    "\n",
    "spark = (\n",
    "    SparkSession.builder\n",
    "    .appName(\"W5M2-NYC-Taxi-Weather-RDD\")\n",
    "    .getOrCreate()\n",
    ")"
   ]
  },
  {
   "cell_type": "code",
   "execution_count": 63,
   "id": "dbc24e68-d496-4e16-9d41-b43c954e72f8",
   "metadata": {},
   "outputs": [
    {
     "name": "stderr",
     "output_type": "stream",
     "text": [
      "                                                                                "
     ]
    }
   ],
   "source": [
    "# trip 데이터 로드 및 전처리\n",
    "trip_df = (\n",
    "    spark.read.parquet(\"/data/yellow_tripdata_2024-01.parquet\")\n",
    "    .withColumn(\"pickup_date\", to_date(\"tpep_pickup_datetime\"))        # 날짜 컬럼 생성\n",
    "    .filter((col(\"fare_amount\") > 0) & (col(\"trip_distance\") > 0))     # 이상치 제거\n",
    ")\n",
    "\n",
    "# DF -> RDD\n",
    "trip_rdd = (\n",
    "    trip_df\n",
    "    .select(\"pickup_date\", \"fare_amount\")   \n",
    "    .rdd\n",
    "    .map(lambda r: (r[\"pickup_date\"], (1, r[\"fare_amount\"])))          \n",
    "    .persist(StorageLevel.MEMORY_AND_DISK)\n",
    ")\n",
    "_ = trip_rdd.count()        # Action을 통해 캐시를 메모리에 확정적으로 올림\n",
    "\n",
    "# 한 번의 reduceByKey 로 일별 운행 수 및 수익 동시 집계\n",
    "agg_rdd = trip_rdd.reduceByKey(\n",
    "    lambda a, b: (a[0] + b[0], a[1] + b[1])\n",
    ")"
   ]
  },
  {
   "cell_type": "code",
   "execution_count": 64,
   "id": "3c57e12b-c0a3-4eba-8494-8cffb2bff9cb",
   "metadata": {},
   "outputs": [],
   "source": [
    "# 날씨 데이터 로드 및 RDD 변환\n",
    "weather_rdd = (\n",
    "    spark.read.option(\"header\", True)\n",
    "        .csv(\"/data/NYC_weather.csv\", inferSchema=True)\n",
    "        .withColumn(\"weather_date\", to_date(\"datetime\"))\n",
    "        .select(\"weather_date\", \"temp\")\n",
    "        .rdd\n",
    "        .map(lambda r: (r[\"weather_date\"], r[\"temp\"]))\n",
    ")\n",
    "# 날짜 기준 Join\n",
    "joined = agg_rdd.join(weather_rdd)"
   ]
  },
  {
   "cell_type": "code",
   "execution_count": 65,
   "id": "ac823b1a-a4d6-4811-9b59-cc63d0ef581f",
   "metadata": {},
   "outputs": [
    {
     "name": "stderr",
     "output_type": "stream",
     "text": [
      "                                                                                "
     ]
    }
   ],
   "source": [
    "# 최종 Row 변환 및 저장\n",
    "result_df = (\n",
    "    joined\n",
    "    .map(lambda x: Row(\n",
    "        date=str(x[0]),\n",
    "        total_trips=x[1][0][0],\n",
    "        total_revenue=x[1][0][1],\n",
    "        avg_temperature=x[1][1]\n",
    "    ))\n",
    "    .toDF()\n",
    ")\n",
    "\n",
    "result_df.write.mode(\"overwrite\")\\\n",
    "        .csv(\"/output/rdd_weather_summary\", header=True)"
   ]
  },
  {
   "cell_type": "code",
   "execution_count": 66,
   "id": "539f29da-064b-4225-a4b1-6e5c88cded6a",
   "metadata": {},
   "outputs": [],
   "source": [
    "summary_df = spark.createDataFrame(\n",
    "    [\n",
    "        Row(metric=\"total_trips\", value=float(result_df.agg({\"total_trips\": \"sum\"}).first()[0])),\n",
    "        Row(metric=\"total_revenue\", value=float(result_df.agg({\"total_revenue\": \"sum\"}).first()[0])),\n",
    "        Row(metric=\"avg_distance\", value=float(\n",
    "            trip_df.select(\"trip_distance\").agg({\"trip_distance\": \"avg\"}).first()[0]\n",
    "        )),\n",
    "    ]\n",
    ")\n",
    "summary_df.write.mode(\"overwrite\")\\\n",
    "        .csv(\"/output/rdd_summary\", header=True)"
   ]
  },
  {
   "cell_type": "code",
   "execution_count": 61,
   "id": "056a6548-2889-4736-aa8e-d1ea7ed115a1",
   "metadata": {},
   "outputs": [],
   "source": [
    "spark.stop()"
   ]
  }
 ],
 "metadata": {
  "kernelspec": {
   "display_name": "Python 3 (ipykernel)",
   "language": "python",
   "name": "python3"
  },
  "language_info": {
   "codemirror_mode": {
    "name": "ipython",
    "version": 3
   },
   "file_extension": ".py",
   "mimetype": "text/x-python",
   "name": "python",
   "nbconvert_exporter": "python",
   "pygments_lexer": "ipython3",
   "version": "3.10.12"
  }
 },
 "nbformat": 4,
 "nbformat_minor": 5
}
