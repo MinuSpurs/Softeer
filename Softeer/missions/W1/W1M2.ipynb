{
 "cells": [
  {
   "cell_type": "code",
   "execution_count": 1,
   "id": "22ffc2b4",
   "metadata": {},
   "outputs": [
    {
     "data": {
      "text/plain": [
       "<sqlite3.Cursor at 0x110f4e340>"
      ]
     },
     "execution_count": 1,
     "metadata": {},
     "output_type": "execute_result"
    }
   ],
   "source": [
    "import sqlite3\n",
    "\n",
    "# 메모리 DB 또는 파일 기반 DB 생성\n",
    "conn = sqlite3.connect('demo.db')\n",
    "cursor = conn.cursor()\n",
    "\n",
    "# 테이블 생성\n",
    "cursor.execute(\"\"\"\n",
    "CREATE TABLE Customers (\n",
    "    CustomerID INTEGER PRIMARY KEY,\n",
    "    CustomerName TEXT,\n",
    "    ContactName TEXT,\n",
    "    Address TEXT,\n",
    "    City TEXT,\n",
    "    PostalCode TEXT,\n",
    "    Country TEXT\n",
    ");\n",
    "\"\"\")\n",
    "\n",
    "# 데이터 삽입\n",
    "cursor.executescript(\"\"\"\n",
    "INSERT INTO Customers (CustomerName, ContactName, Address, City, PostalCode, Country) VALUES\n",
    "('Alfreds Futterkiste', 'Maria Anders', 'Obere Str. 57', 'Berlin', '12209', 'Germany'),\n",
    "('Ana Trujillo Emparedados y helados', 'Ana Trujillo', 'Avda. de la Constitución 2222', 'México D.F.', '05021', 'Mexico'),\n",
    "('Antonio Moreno Taquería', 'Antonio Moreno', 'Mataderos 2312', 'México D.F.', '05023', 'Mexico'),\n",
    "('Around the Horn', 'Thomas Hardy', '120 Hanover Sq.', 'London', 'WA1 1DP', 'UK'),\n",
    "('Berglunds snabbköp', 'Christina Berglund', 'Berguvsvägen 8', 'Luleå', 'S-958 22', 'Sweden'),\n",
    "('Blauer See Delikatessen', 'Hanna Moos', 'Forsterstr. 57', 'Mannheim', '68306', 'Germany'),\n",
    "('Blondel père et fils', 'Frédérique Citeaux', '24, place Kléber', 'Strasbourg', '67000', 'France'),\n",
    "('Bólido Comidas preparadas', 'Martín Sommer', 'C/ Araquil, 67', 'Madrid', '28023', 'Spain'),\n",
    "('Bon app''', 'Laurence Lebihan', '12, rue des Bouchers', 'Marseille', '13008', 'France'),\n",
    "('Bottom-Dollar Marketse', 'Elizabeth Lincoln', '23 Tsawassen Blvd.', 'Tsawassen', 'T2F 8M4', 'Canada'),\n",
    "('Cactus Comidas para llevar', 'Patricio Simpson', 'Cerrito 333', 'Buenos Aires', '1010', 'Argentina'),\n",
    "('Centro comercial Moctezuma', 'Francisco Chang', 'Sierras de Granada 9993', 'México D.F.', '05022', 'Mexico'),\n",
    "('Chop-suey Chinese', 'Yang Wang', 'Hauptstr. 29', 'Bern', '3012', 'Switzerland'),\n",
    "('Comércio Mineiro', 'Pedro Afonso', 'Av. dos Lusíadas, 23', 'São Paulo', '05432-043', 'Brazil'),\n",
    "('Consolidated Holdings', 'Elizabeth Brown', 'Berkeley Gardens 12 Brewery', 'London', 'WX1 6LT', 'UK'),\n",
    "('Drachenblut Delikatessen', 'Sven Ottlieb', 'Walserweg 21', 'Aachen', '52066', 'Germany'),\n",
    "('Du monde entier', 'Janine Labrune', '67, rue des Cinquante Otages', 'Nantes', '44000', 'France'),\n",
    "('Eastern Connection', 'Ann Devon', '35 King George', 'London', 'WX3 6FW', 'UK'),\n",
    "('Ernst Handel', 'Roland Mendel', 'Kirchgasse 6', 'Graz', '8010', 'Austria'),\n",
    "('Familia Arquibaldo', 'Aria Cruz', 'Rua Orós, 92', 'Rio de Janeiro', '05442-030', 'Brazil');\n",
    "\"\"\")"
   ]
  },
  {
   "cell_type": "code",
   "execution_count": 2,
   "id": "43d01d3c",
   "metadata": {},
   "outputs": [],
   "source": [
    "def query(query_msg):   # query 함수 제작\n",
    "    cursor.execute(query_msg)\n",
    "    rows = cursor.fetchall()\n",
    "\n",
    "    for row in rows:\n",
    "        print(row)"
   ]
  },
  {
   "cell_type": "code",
   "execution_count": 3,
   "id": "d6cb3865",
   "metadata": {},
   "outputs": [
    {
     "name": "stdout",
     "output_type": "stream",
     "text": [
      "(1, 'Alfreds Futterkiste', 'Maria Anders', 'Obere Str. 57', 'Berlin', '12209', 'Germany')\n",
      "(2, 'Ana Trujillo Emparedados y helados', 'Ana Trujillo', 'Avda. de la Constitución 2222', 'México D.F.', '05021', 'Mexico')\n",
      "(3, 'Antonio Moreno Taquería', 'Antonio Moreno', 'Mataderos 2312', 'México D.F.', '05023', 'Mexico')\n",
      "(4, 'Around the Horn', 'Thomas Hardy', '120 Hanover Sq.', 'London', 'WA1 1DP', 'UK')\n",
      "(5, 'Berglunds snabbköp', 'Christina Berglund', 'Berguvsvägen 8', 'Luleå', 'S-958 22', 'Sweden')\n",
      "(6, 'Blauer See Delikatessen', 'Hanna Moos', 'Forsterstr. 57', 'Mannheim', '68306', 'Germany')\n",
      "(7, 'Blondel père et fils', 'Frédérique Citeaux', '24, place Kléber', 'Strasbourg', '67000', 'France')\n",
      "(8, 'Bólido Comidas preparadas', 'Martín Sommer', 'C/ Araquil, 67', 'Madrid', '28023', 'Spain')\n",
      "(9, \"Bon app'\", 'Laurence Lebihan', '12, rue des Bouchers', 'Marseille', '13008', 'France')\n",
      "(10, 'Bottom-Dollar Marketse', 'Elizabeth Lincoln', '23 Tsawassen Blvd.', 'Tsawassen', 'T2F 8M4', 'Canada')\n",
      "(11, 'Cactus Comidas para llevar', 'Patricio Simpson', 'Cerrito 333', 'Buenos Aires', '1010', 'Argentina')\n",
      "(12, 'Centro comercial Moctezuma', 'Francisco Chang', 'Sierras de Granada 9993', 'México D.F.', '05022', 'Mexico')\n",
      "(13, 'Chop-suey Chinese', 'Yang Wang', 'Hauptstr. 29', 'Bern', '3012', 'Switzerland')\n",
      "(14, 'Comércio Mineiro', 'Pedro Afonso', 'Av. dos Lusíadas, 23', 'São Paulo', '05432-043', 'Brazil')\n",
      "(15, 'Consolidated Holdings', 'Elizabeth Brown', 'Berkeley Gardens 12 Brewery', 'London', 'WX1 6LT', 'UK')\n",
      "(16, 'Drachenblut Delikatessen', 'Sven Ottlieb', 'Walserweg 21', 'Aachen', '52066', 'Germany')\n",
      "(17, 'Du monde entier', 'Janine Labrune', '67, rue des Cinquante Otages', 'Nantes', '44000', 'France')\n",
      "(18, 'Eastern Connection', 'Ann Devon', '35 King George', 'London', 'WX3 6FW', 'UK')\n",
      "(19, 'Ernst Handel', 'Roland Mendel', 'Kirchgasse 6', 'Graz', '8010', 'Austria')\n",
      "(20, 'Familia Arquibaldo', 'Aria Cruz', 'Rua Orós, 92', 'Rio de Janeiro', '05442-030', 'Brazil')\n"
     ]
    }
   ],
   "source": [
    "# SELECT 실행\n",
    "query(\"SELECT * FROM Customers;\")"
   ]
  },
  {
   "cell_type": "code",
   "execution_count": 4,
   "id": "2d2540a0",
   "metadata": {},
   "outputs": [
    {
     "name": "stdout",
     "output_type": "stream",
     "text": [
      "('Alfreds Futterkiste', 'Berlin')\n",
      "('Ana Trujillo Emparedados y helados', 'México D.F.')\n",
      "('Antonio Moreno Taquería', 'México D.F.')\n",
      "('Around the Horn', 'London')\n",
      "('Berglunds snabbköp', 'Luleå')\n",
      "('Blauer See Delikatessen', 'Mannheim')\n",
      "('Blondel père et fils', 'Strasbourg')\n",
      "('Bólido Comidas preparadas', 'Madrid')\n",
      "(\"Bon app'\", 'Marseille')\n",
      "('Bottom-Dollar Marketse', 'Tsawassen')\n",
      "('Cactus Comidas para llevar', 'Buenos Aires')\n",
      "('Centro comercial Moctezuma', 'México D.F.')\n",
      "('Chop-suey Chinese', 'Bern')\n",
      "('Comércio Mineiro', 'São Paulo')\n",
      "('Consolidated Holdings', 'London')\n",
      "('Drachenblut Delikatessen', 'Aachen')\n",
      "('Du monde entier', 'Nantes')\n",
      "('Eastern Connection', 'London')\n",
      "('Ernst Handel', 'Graz')\n",
      "('Familia Arquibaldo', 'Rio de Janeiro')\n"
     ]
    }
   ],
   "source": [
    "query(\"SELECT CustomerName, City FROM Customers;\")"
   ]
  },
  {
   "cell_type": "code",
   "execution_count": 5,
   "id": "7c256a42",
   "metadata": {},
   "outputs": [
    {
     "name": "stdout",
     "output_type": "stream",
     "text": [
      "('Germany',)\n",
      "('Mexico',)\n",
      "('UK',)\n",
      "('Sweden',)\n",
      "('France',)\n",
      "('Spain',)\n",
      "('Canada',)\n",
      "('Argentina',)\n",
      "('Switzerland',)\n",
      "('Brazil',)\n",
      "('Austria',)\n"
     ]
    }
   ],
   "source": [
    "query(\"SELECT DISTINCT Country FROM Customers;\")\n"
   ]
  },
  {
   "cell_type": "code",
   "execution_count": 6,
   "id": "64b3b40c",
   "metadata": {},
   "outputs": [
    {
     "name": "stdout",
     "output_type": "stream",
     "text": [
      "(2, 'Ana Trujillo Emparedados y helados', 'Ana Trujillo', 'Avda. de la Constitución 2222', 'México D.F.', '05021', 'Mexico')\n",
      "(3, 'Antonio Moreno Taquería', 'Antonio Moreno', 'Mataderos 2312', 'México D.F.', '05023', 'Mexico')\n",
      "(12, 'Centro comercial Moctezuma', 'Francisco Chang', 'Sierras de Granada 9993', 'México D.F.', '05022', 'Mexico')\n"
     ]
    }
   ],
   "source": [
    "query(\"SELECT * FROM Customers WHERE Country='Mexico';\")"
   ]
  },
  {
   "cell_type": "code",
   "execution_count": 7,
   "id": "9e3a1ba5",
   "metadata": {},
   "outputs": [
    {
     "data": {
      "text/plain": [
       "<sqlite3.Cursor at 0x110f4ea40>"
      ]
     },
     "execution_count": 7,
     "metadata": {},
     "output_type": "execute_result"
    }
   ],
   "source": [
    "conn = sqlite3.connect('demo.db')\n",
    "cursor = conn.cursor()\n",
    "\n",
    "# 테이블 생성\n",
    "cursor.execute(\"\"\"\n",
    "CREATE TABLE Products (\n",
    "    ProductID INTEGER PRIMARY KEY,\n",
    "    ProductName TEXT,\n",
    "    SupplierID INTEGER,\n",
    "    CategoryID INTEGER,\n",
    "    Unit TEXT,\n",
    "    Price REAL\n",
    ");\n",
    "\"\"\")\n",
    "\n",
    "# 데이터 삽입\n",
    "cursor.executescript(\"\"\"\n",
    "INSERT INTO Products (ProductID, ProductName, SupplierID, CategoryID, Unit, Price) VALUES\n",
    "(1, 'Chais', 1, 1, '10 boxes x 20 bags', 18.00),\n",
    "(2, 'Chang', 1, 1, '24 - 12 oz bottles', 19.00),\n",
    "(3, 'Aniseed Syrup', 1, 2, '12 - 550 ml bottles', 10.00),\n",
    "(4, 'Chef Anton''s Cajun Seasoning', 2, 2, '48 - 6 oz jars', 22.00),\n",
    "(5, 'Chef Anton''s Gumbo Mix', 2, 2, '36 boxes', 21.35);\n",
    "\"\"\")\n"
   ]
  },
  {
   "cell_type": "code",
   "execution_count": 8,
   "id": "efc1f445",
   "metadata": {},
   "outputs": [
    {
     "name": "stdout",
     "output_type": "stream",
     "text": [
      "(3, 'Aniseed Syrup', 1, 2, '12 - 550 ml bottles', 10.0)\n",
      "(1, 'Chais', 1, 1, '10 boxes x 20 bags', 18.0)\n",
      "(2, 'Chang', 1, 1, '24 - 12 oz bottles', 19.0)\n",
      "(5, \"Chef Anton's Gumbo Mix\", 2, 2, '36 boxes', 21.35)\n",
      "(4, \"Chef Anton's Cajun Seasoning\", 2, 2, '48 - 6 oz jars', 22.0)\n"
     ]
    }
   ],
   "source": [
    "query(\"SELECT * FROM Products ORDER BY Price;\")"
   ]
  },
  {
   "cell_type": "code",
   "execution_count": 9,
   "id": "3e80da3c",
   "metadata": {},
   "outputs": [
    {
     "name": "stdout",
     "output_type": "stream",
     "text": [
      "(1, 'Alfreds Futterkiste', 'Maria Anders', 'Obere Str. 57', 'Berlin', '12209', 'Germany')\n"
     ]
    }
   ],
   "source": [
    "query(\"SELECT * FROM Customers WHERE Country = 'Germany' AND CustomerName LIKE 'A%';\")"
   ]
  },
  {
   "cell_type": "code",
   "execution_count": 10,
   "id": "7da806e4",
   "metadata": {},
   "outputs": [
    {
     "name": "stdout",
     "output_type": "stream",
     "text": [
      "(1, 'Alfreds Futterkiste', 'Maria Anders', 'Obere Str. 57', 'Berlin', '12209', 'Germany')\n",
      "(6, 'Blauer See Delikatessen', 'Hanna Moos', 'Forsterstr. 57', 'Mannheim', '68306', 'Germany')\n",
      "(8, 'Bólido Comidas preparadas', 'Martín Sommer', 'C/ Araquil, 67', 'Madrid', '28023', 'Spain')\n",
      "(16, 'Drachenblut Delikatessen', 'Sven Ottlieb', 'Walserweg 21', 'Aachen', '52066', 'Germany')\n"
     ]
    }
   ],
   "source": [
    "query(\"SELECT * FROM Customers WHERE Country = 'Germany' OR Country = 'Spain';\")"
   ]
  },
  {
   "cell_type": "code",
   "execution_count": 11,
   "id": "f29ddecb",
   "metadata": {},
   "outputs": [
    {
     "name": "stdout",
     "output_type": "stream",
     "text": [
      "(1, 'Alfreds Futterkiste', 'Maria Anders', 'Obere Str. 57', 'Berlin', '12209', 'Germany')\n",
      "(2, 'Ana Trujillo Emparedados y helados', 'Ana Trujillo', 'Avda. de la Constitución 2222', 'México D.F.', '05021', 'Mexico')\n",
      "(3, 'Antonio Moreno Taquería', 'Antonio Moreno', 'Mataderos 2312', 'México D.F.', '05023', 'Mexico')\n",
      "(4, 'Around the Horn', 'Thomas Hardy', '120 Hanover Sq.', 'London', 'WA1 1DP', 'UK')\n",
      "(5, 'Berglunds snabbköp', 'Christina Berglund', 'Berguvsvägen 8', 'Luleå', 'S-958 22', 'Sweden')\n",
      "(6, 'Blauer See Delikatessen', 'Hanna Moos', 'Forsterstr. 57', 'Mannheim', '68306', 'Germany')\n",
      "(7, 'Blondel père et fils', 'Frédérique Citeaux', '24, place Kléber', 'Strasbourg', '67000', 'France')\n",
      "(9, \"Bon app'\", 'Laurence Lebihan', '12, rue des Bouchers', 'Marseille', '13008', 'France')\n",
      "(10, 'Bottom-Dollar Marketse', 'Elizabeth Lincoln', '23 Tsawassen Blvd.', 'Tsawassen', 'T2F 8M4', 'Canada')\n",
      "(11, 'Cactus Comidas para llevar', 'Patricio Simpson', 'Cerrito 333', 'Buenos Aires', '1010', 'Argentina')\n",
      "(12, 'Centro comercial Moctezuma', 'Francisco Chang', 'Sierras de Granada 9993', 'México D.F.', '05022', 'Mexico')\n",
      "(13, 'Chop-suey Chinese', 'Yang Wang', 'Hauptstr. 29', 'Bern', '3012', 'Switzerland')\n",
      "(14, 'Comércio Mineiro', 'Pedro Afonso', 'Av. dos Lusíadas, 23', 'São Paulo', '05432-043', 'Brazil')\n",
      "(15, 'Consolidated Holdings', 'Elizabeth Brown', 'Berkeley Gardens 12 Brewery', 'London', 'WX1 6LT', 'UK')\n",
      "(16, 'Drachenblut Delikatessen', 'Sven Ottlieb', 'Walserweg 21', 'Aachen', '52066', 'Germany')\n",
      "(17, 'Du monde entier', 'Janine Labrune', '67, rue des Cinquante Otages', 'Nantes', '44000', 'France')\n",
      "(18, 'Eastern Connection', 'Ann Devon', '35 King George', 'London', 'WX3 6FW', 'UK')\n",
      "(19, 'Ernst Handel', 'Roland Mendel', 'Kirchgasse 6', 'Graz', '8010', 'Austria')\n",
      "(20, 'Familia Arquibaldo', 'Aria Cruz', 'Rua Orós, 92', 'Rio de Janeiro', '05442-030', 'Brazil')\n"
     ]
    }
   ],
   "source": [
    "query(\"SELECT * FROM Customers WHERE NOT Country = 'Spain';\")"
   ]
  },
  {
   "cell_type": "code",
   "execution_count": 12,
   "id": "07a6f27d",
   "metadata": {},
   "outputs": [],
   "source": [
    "query(\"INSERT INTO Customers (CustomerName, ContactName, Address, City, PostalCode, Country) VALUES ('Cardinal', 'Tom B. Erichsen', 'Skagen 21', 'Stavanger', '4006', 'Norway');\")"
   ]
  },
  {
   "cell_type": "code",
   "execution_count": 13,
   "id": "267b9197",
   "metadata": {},
   "outputs": [
    {
     "name": "stdout",
     "output_type": "stream",
     "text": [
      "(1, 'Alfreds Futterkiste', 'Maria Anders', 'Obere Str. 57', 'Berlin', '12209', 'Germany')\n",
      "(2, 'Ana Trujillo Emparedados y helados', 'Ana Trujillo', 'Avda. de la Constitución 2222', 'México D.F.', '05021', 'Mexico')\n",
      "(3, 'Antonio Moreno Taquería', 'Antonio Moreno', 'Mataderos 2312', 'México D.F.', '05023', 'Mexico')\n",
      "(4, 'Around the Horn', 'Thomas Hardy', '120 Hanover Sq.', 'London', 'WA1 1DP', 'UK')\n",
      "(5, 'Berglunds snabbköp', 'Christina Berglund', 'Berguvsvägen 8', 'Luleå', 'S-958 22', 'Sweden')\n",
      "(6, 'Blauer See Delikatessen', 'Hanna Moos', 'Forsterstr. 57', 'Mannheim', '68306', 'Germany')\n",
      "(7, 'Blondel père et fils', 'Frédérique Citeaux', '24, place Kléber', 'Strasbourg', '67000', 'France')\n",
      "(8, 'Bólido Comidas preparadas', 'Martín Sommer', 'C/ Araquil, 67', 'Madrid', '28023', 'Spain')\n",
      "(9, \"Bon app'\", 'Laurence Lebihan', '12, rue des Bouchers', 'Marseille', '13008', 'France')\n",
      "(10, 'Bottom-Dollar Marketse', 'Elizabeth Lincoln', '23 Tsawassen Blvd.', 'Tsawassen', 'T2F 8M4', 'Canada')\n",
      "(11, 'Cactus Comidas para llevar', 'Patricio Simpson', 'Cerrito 333', 'Buenos Aires', '1010', 'Argentina')\n",
      "(12, 'Centro comercial Moctezuma', 'Francisco Chang', 'Sierras de Granada 9993', 'México D.F.', '05022', 'Mexico')\n",
      "(13, 'Chop-suey Chinese', 'Yang Wang', 'Hauptstr. 29', 'Bern', '3012', 'Switzerland')\n",
      "(14, 'Comércio Mineiro', 'Pedro Afonso', 'Av. dos Lusíadas, 23', 'São Paulo', '05432-043', 'Brazil')\n",
      "(15, 'Consolidated Holdings', 'Elizabeth Brown', 'Berkeley Gardens 12 Brewery', 'London', 'WX1 6LT', 'UK')\n",
      "(16, 'Drachenblut Delikatessen', 'Sven Ottlieb', 'Walserweg 21', 'Aachen', '52066', 'Germany')\n",
      "(17, 'Du monde entier', 'Janine Labrune', '67, rue des Cinquante Otages', 'Nantes', '44000', 'France')\n",
      "(18, 'Eastern Connection', 'Ann Devon', '35 King George', 'London', 'WX3 6FW', 'UK')\n",
      "(19, 'Ernst Handel', 'Roland Mendel', 'Kirchgasse 6', 'Graz', '8010', 'Austria')\n",
      "(20, 'Familia Arquibaldo', 'Aria Cruz', 'Rua Orós, 92', 'Rio de Janeiro', '05442-030', 'Brazil')\n",
      "(21, 'Cardinal', 'Tom B. Erichsen', 'Skagen 21', 'Stavanger', '4006', 'Norway')\n"
     ]
    }
   ],
   "source": [
    "# SELECT 실행\n",
    "query(\"SELECT * FROM Customers;\")"
   ]
  },
  {
   "cell_type": "code",
   "execution_count": 14,
   "id": "82253f5c",
   "metadata": {},
   "outputs": [],
   "source": [
    "query(\"SELECT CustomerName, ContactName, Address FROM Customers WHERE Address IS NULL;\")"
   ]
  },
  {
   "cell_type": "code",
   "execution_count": 15,
   "id": "855a0125",
   "metadata": {},
   "outputs": [],
   "source": [
    "query(\"UPDATE Customers SET ContactName = 'Alfred Schmidt', City= 'Frankfurt' WHERE CustomerID = 1;\")"
   ]
  },
  {
   "cell_type": "code",
   "execution_count": null,
   "id": "25af1fab",
   "metadata": {},
   "outputs": [],
   "source": [
    "query(\"UPDATE Customers SET ContactName='Juan' WHERE Country='Mexico';\")"
   ]
  },
  {
   "cell_type": "code",
   "execution_count": null,
   "id": "e604f0a6",
   "metadata": {},
   "outputs": [],
   "source": [
    "query(\"UPDATE Customers SET ContactName='Juan';\")"
   ]
  },
  {
   "cell_type": "code",
   "execution_count": null,
   "id": "032a08fc",
   "metadata": {},
   "outputs": [],
   "source": [
    "query(\"DELETE FROM Customers WHERE CustomerName='Alfreds Futterkiste';\")"
   ]
  },
  {
   "cell_type": "code",
   "execution_count": null,
   "id": "c9a3c252",
   "metadata": {},
   "outputs": [],
   "source": [
    "query(\"DELETE FROM Customers;\")\n"
   ]
  },
  {
   "cell_type": "code",
   "execution_count": null,
   "id": "4fb3da9f",
   "metadata": {},
   "outputs": [],
   "source": [
    "query(\"DROP TABLE Customers;\")"
   ]
  },
  {
   "cell_type": "code",
   "execution_count": 22,
   "id": "5276f42f",
   "metadata": {},
   "outputs": [
    {
     "data": {
      "text/plain": [
       "<sqlite3.Cursor at 0x110f4ea40>"
      ]
     },
     "execution_count": 22,
     "metadata": {},
     "output_type": "execute_result"
    }
   ],
   "source": [
    "cursor.execute(\"\"\"\n",
    "CREATE TABLE Customers (\n",
    "    CustomerID INTEGER PRIMARY KEY,\n",
    "    CustomerName TEXT,\n",
    "    ContactName TEXT,\n",
    "    Address TEXT,\n",
    "    City TEXT,\n",
    "    PostalCode TEXT,\n",
    "    Country TEXT\n",
    ");\n",
    "\"\"\")\n",
    "\n",
    "# 데이터 삽입\n",
    "cursor.executescript(\"\"\"\n",
    "INSERT INTO Customers (CustomerName, ContactName, Address, City, PostalCode, Country) VALUES\n",
    "('Alfreds Futterkiste', 'Maria Anders', 'Obere Str. 57', 'Berlin', '12209', 'Germany'),\n",
    "('Ana Trujillo Emparedados y helados', 'Ana Trujillo', 'Avda. de la Constitución 2222', 'México D.F.', '05021', 'Mexico'),\n",
    "('Antonio Moreno Taquería', 'Antonio Moreno', 'Mataderos 2312', 'México D.F.', '05023', 'Mexico'),\n",
    "('Around the Horn', 'Thomas Hardy', '120 Hanover Sq.', 'London', 'WA1 1DP', 'UK'),\n",
    "('Berglunds snabbköp', 'Christina Berglund', 'Berguvsvägen 8', 'Luleå', 'S-958 22', 'Sweden'),\n",
    "('Blauer See Delikatessen', 'Hanna Moos', 'Forsterstr. 57', 'Mannheim', '68306', 'Germany'),\n",
    "('Blondel père et fils', 'Frédérique Citeaux', '24, place Kléber', 'Strasbourg', '67000', 'France'),\n",
    "('Bólido Comidas preparadas', 'Martín Sommer', 'C/ Araquil, 67', 'Madrid', '28023', 'Spain'),\n",
    "('Bon app''', 'Laurence Lebihan', '12, rue des Bouchers', 'Marseille', '13008', 'France'),\n",
    "('Bottom-Dollar Marketse', 'Elizabeth Lincoln', '23 Tsawassen Blvd.', 'Tsawassen', 'T2F 8M4', 'Canada'),\n",
    "('Cactus Comidas para llevar', 'Patricio Simpson', 'Cerrito 333', 'Buenos Aires', '1010', 'Argentina'),\n",
    "('Centro comercial Moctezuma', 'Francisco Chang', 'Sierras de Granada 9993', 'México D.F.', '05022', 'Mexico'),\n",
    "('Chop-suey Chinese', 'Yang Wang', 'Hauptstr. 29', 'Bern', '3012', 'Switzerland'),\n",
    "('Comércio Mineiro', 'Pedro Afonso', 'Av. dos Lusíadas, 23', 'São Paulo', '05432-043', 'Brazil'),\n",
    "('Consolidated Holdings', 'Elizabeth Brown', 'Berkeley Gardens 12 Brewery', 'London', 'WX1 6LT', 'UK'),\n",
    "('Drachenblut Delikatessen', 'Sven Ottlieb', 'Walserweg 21', 'Aachen', '52066', 'Germany'),\n",
    "('Du monde entier', 'Janine Labrune', '67, rue des Cinquante Otages', 'Nantes', '44000', 'France'),\n",
    "('Eastern Connection', 'Ann Devon', '35 King George', 'London', 'WX3 6FW', 'UK'),\n",
    "('Ernst Handel', 'Roland Mendel', 'Kirchgasse 6', 'Graz', '8010', 'Austria'),\n",
    "('Familia Arquibaldo', 'Aria Cruz', 'Rua Orós, 92', 'Rio de Janeiro', '05442-030', 'Brazil');\n",
    "\"\"\")"
   ]
  },
  {
   "cell_type": "code",
   "execution_count": 24,
   "id": "f26779ee",
   "metadata": {},
   "outputs": [
    {
     "name": "stdout",
     "output_type": "stream",
     "text": [
      "(1, 'Alfreds Futterkiste', 'Maria Anders', 'Obere Str. 57', 'Berlin', '12209', 'Germany')\n",
      "(2, 'Ana Trujillo Emparedados y helados', 'Ana Trujillo', 'Avda. de la Constitución 2222', 'México D.F.', '05021', 'Mexico')\n",
      "(3, 'Antonio Moreno Taquería', 'Antonio Moreno', 'Mataderos 2312', 'México D.F.', '05023', 'Mexico')\n"
     ]
    }
   ],
   "source": [
    "query(\"SELECT * FROM Customers LIMIT 3;\")  # sqlite3는 TOP을 지원하지 않아 LIMIT 3으로 대체"
   ]
  },
  {
   "cell_type": "code",
   "execution_count": 25,
   "id": "7dae6659",
   "metadata": {},
   "outputs": [
    {
     "name": "stdout",
     "output_type": "stream",
     "text": [
      "(10.0,)\n"
     ]
    }
   ],
   "source": [
    "query(\"SELECT MIN(Price) FROM Products;\")"
   ]
  },
  {
   "cell_type": "code",
   "execution_count": 26,
   "id": "568b8eaa",
   "metadata": {},
   "outputs": [
    {
     "name": "stdout",
     "output_type": "stream",
     "text": [
      "(22.0,)\n"
     ]
    }
   ],
   "source": [
    "query(\"SELECT MAX(Price) FROM Products;\")"
   ]
  },
  {
   "cell_type": "code",
   "execution_count": 27,
   "id": "2f9a8c1e",
   "metadata": {},
   "outputs": [
    {
     "name": "stdout",
     "output_type": "stream",
     "text": [
      "(10.0,)\n"
     ]
    }
   ],
   "source": [
    "query(\"SELECT MIN(Price) AS SmallestPrice FROM Products;\")"
   ]
  },
  {
   "cell_type": "code",
   "execution_count": 28,
   "id": "07c8c164",
   "metadata": {},
   "outputs": [
    {
     "name": "stdout",
     "output_type": "stream",
     "text": [
      "(18.0, 1)\n",
      "(10.0, 2)\n"
     ]
    }
   ],
   "source": [
    "query(\"SELECT MIN(Price) AS SmallestPrice, CategoryID FROM Products GROUP BY CategoryID;\")"
   ]
  },
  {
   "cell_type": "code",
   "execution_count": 29,
   "id": "0db8ae9d",
   "metadata": {},
   "outputs": [
    {
     "name": "stdout",
     "output_type": "stream",
     "text": [
      "(5,)\n"
     ]
    }
   ],
   "source": [
    "query(\"SELECT COUNT(*) FROM Products;\")"
   ]
  },
  {
   "cell_type": "code",
   "execution_count": 30,
   "id": "2775cb6a",
   "metadata": {},
   "outputs": [
    {
     "name": "stdout",
     "output_type": "stream",
     "text": [
      "(5,)\n"
     ]
    }
   ],
   "source": [
    "query(\"SELECT COUNT(ProductName) FROM Products;\")"
   ]
  },
  {
   "cell_type": "code",
   "execution_count": 31,
   "id": "6f71e5c4",
   "metadata": {},
   "outputs": [
    {
     "name": "stdout",
     "output_type": "stream",
     "text": [
      "(2,)\n"
     ]
    }
   ],
   "source": [
    "query(\"SELECT COUNT(ProductID) FROM Products WHERE Price > 20;\")"
   ]
  },
  {
   "cell_type": "code",
   "execution_count": 32,
   "id": "5dc1dae8",
   "metadata": {},
   "outputs": [
    {
     "name": "stdout",
     "output_type": "stream",
     "text": [
      "(5,)\n"
     ]
    }
   ],
   "source": [
    "query(\"SELECT COUNT(DISTINCT Price) FROM Products;\")"
   ]
  },
  {
   "cell_type": "code",
   "execution_count": 33,
   "id": "15f1f3df",
   "metadata": {},
   "outputs": [
    {
     "name": "stdout",
     "output_type": "stream",
     "text": [
      "(5,)\n"
     ]
    }
   ],
   "source": [
    "query(\"SELECT COUNT(*) AS [Number of records] FROM Products;\")"
   ]
  },
  {
   "cell_type": "code",
   "execution_count": 34,
   "id": "1258b6ca",
   "metadata": {},
   "outputs": [
    {
     "name": "stdout",
     "output_type": "stream",
     "text": [
      "(2, 1)\n",
      "(3, 2)\n"
     ]
    }
   ],
   "source": [
    "query(\"SELECT COUNT(*) AS [Number of records], CategoryID FROM Products GROUP BY CategoryID;\")"
   ]
  },
  {
   "cell_type": "code",
   "execution_count": 35,
   "id": "1da83da6",
   "metadata": {},
   "outputs": [],
   "source": [
    "conn = sqlite3.connect('demo.db')\n",
    "cursor = conn.cursor()\n",
    "\n",
    "# 테이블 생성\n",
    "cursor.execute(\"\"\"\n",
    "CREATE TABLE IF NOT EXISTS OrderDetails (\n",
    "    OrderDetailID INTEGER PRIMARY KEY,\n",
    "    OrderID INTEGER,\n",
    "    ProductID INTEGER,\n",
    "    Quantity INTEGER\n",
    ");\n",
    "\"\"\")\n",
    "\n",
    "# 데이터 삽입\n",
    "cursor.execute(\"SELECT COUNT(*) FROM OrderDetails\")\n",
    "if cursor.fetchone()[0] == 0:\n",
    "    cursor.executescript(\"\"\"\n",
    "    INSERT INTO OrderDetails (OrderDetailID, OrderID, ProductID, Quantity) VALUES\n",
    "    (1, 1001, 1, 2),\n",
    "    (2, 1001, 2, 1),\n",
    "    (3, 1002, 3, 5),\n",
    "    (4, 1003, 1, 1),\n",
    "    (5, 1003, 5, 2),\n",
    "    (6, 1004, 2, 3),\n",
    "    (7, 1004, 4, 1),\n",
    "    (8, 1005, 5, 4),\n",
    "    (9, 1006, 3, 2),\n",
    "    (10, 1007, 4, 1),\n",
    "    (11, 1007, 2, 2),\n",
    "    (12, 1008, 1, 3),\n",
    "    (13, 1009, 5, 2),\n",
    "    (14, 1010, 3, 4),\n",
    "    (15, 1011, 4, 1),\n",
    "    (16, 1011, 1, 2),\n",
    "    (17, 1012, 2, 5),\n",
    "    (18, 1013, 5, 1),\n",
    "    (19, 1013, 3, 2),\n",
    "    (20, 1014, 4, 3);\n",
    "    \"\"\")"
   ]
  },
  {
   "cell_type": "code",
   "execution_count": 36,
   "id": "762ed089",
   "metadata": {},
   "outputs": [
    {
     "name": "stdout",
     "output_type": "stream",
     "text": [
      "(47,)\n"
     ]
    }
   ],
   "source": [
    "query(\"SELECT SUM(Quantity) FROM OrderDetails;\")"
   ]
  },
  {
   "cell_type": "code",
   "execution_count": 37,
   "id": "2d22ade8",
   "metadata": {},
   "outputs": [
    {
     "name": "stdout",
     "output_type": "stream",
     "text": [
      "(9,)\n"
     ]
    }
   ],
   "source": [
    "query(\"SELECT SUM(Quantity) FROM OrderDetails WHERE ProductId = 5;\")"
   ]
  },
  {
   "cell_type": "code",
   "execution_count": 38,
   "id": "9d24aabd",
   "metadata": {},
   "outputs": [
    {
     "name": "stdout",
     "output_type": "stream",
     "text": [
      "(47,)\n"
     ]
    }
   ],
   "source": [
    "query(\"SELECT SUM(Quantity) AS total FROM OrderDetails;\")"
   ]
  },
  {
   "cell_type": "code",
   "execution_count": 39,
   "id": "45b59d28",
   "metadata": {},
   "outputs": [
    {
     "name": "stdout",
     "output_type": "stream",
     "text": [
      "(1001, 3)\n",
      "(1002, 5)\n",
      "(1003, 3)\n",
      "(1004, 4)\n",
      "(1005, 4)\n",
      "(1006, 2)\n",
      "(1007, 3)\n",
      "(1008, 3)\n",
      "(1009, 2)\n",
      "(1010, 4)\n",
      "(1011, 3)\n",
      "(1012, 5)\n",
      "(1013, 3)\n",
      "(1014, 3)\n"
     ]
    }
   ],
   "source": [
    "query(\"SELECT OrderID, SUM(Quantity) AS [Total Quantity] FROM OrderDetails GROUP BY OrderID;\")"
   ]
  },
  {
   "cell_type": "code",
   "execution_count": 40,
   "id": "407fd4fe",
   "metadata": {},
   "outputs": [
    {
     "name": "stdout",
     "output_type": "stream",
     "text": [
      "(470,)\n"
     ]
    }
   ],
   "source": [
    "query(\"SELECT SUM(Quantity * 10) FROM OrderDetails;\")"
   ]
  },
  {
   "cell_type": "code",
   "execution_count": 41,
   "id": "8a2ae5b0",
   "metadata": {},
   "outputs": [
    {
     "name": "stdout",
     "output_type": "stream",
     "text": [
      "(807.15,)\n"
     ]
    }
   ],
   "source": [
    "query(\"SELECT SUM(Price * Quantity) FROM OrderDetails LEFT JOIN Products ON OrderDetails.ProductID = Products.ProductID;\")"
   ]
  },
  {
   "cell_type": "code",
   "execution_count": 42,
   "id": "3e2b90a1",
   "metadata": {},
   "outputs": [
    {
     "name": "stdout",
     "output_type": "stream",
     "text": [
      "(18.07,)\n"
     ]
    }
   ],
   "source": [
    "query(\"SELECT AVG(Price) FROM Products;\")"
   ]
  },
  {
   "cell_type": "code",
   "execution_count": 43,
   "id": "deac6970",
   "metadata": {},
   "outputs": [
    {
     "name": "stdout",
     "output_type": "stream",
     "text": [
      "(18.5,)\n"
     ]
    }
   ],
   "source": [
    "query(\"SELECT AVG(Price) FROM Products WHERE CategoryID = 1;\")"
   ]
  },
  {
   "cell_type": "code",
   "execution_count": 44,
   "id": "9a52a7f8",
   "metadata": {},
   "outputs": [
    {
     "name": "stdout",
     "output_type": "stream",
     "text": [
      "(18.07,)\n"
     ]
    }
   ],
   "source": [
    "query(\"SELECT AVG(Price) AS [average price] FROM Products;\")"
   ]
  },
  {
   "cell_type": "code",
   "execution_count": 45,
   "id": "d787b5ad",
   "metadata": {},
   "outputs": [
    {
     "name": "stdout",
     "output_type": "stream",
     "text": [
      "(2, 'Chang', 1, 1, '24 - 12 oz bottles', 19.0)\n",
      "(4, \"Chef Anton's Cajun Seasoning\", 2, 2, '48 - 6 oz jars', 22.0)\n",
      "(5, \"Chef Anton's Gumbo Mix\", 2, 2, '36 boxes', 21.35)\n"
     ]
    }
   ],
   "source": [
    "query(\"SELECT * FROM Products WHERE price > (SELECT AVG(price) FROM Products);\")"
   ]
  },
  {
   "cell_type": "code",
   "execution_count": 46,
   "id": "37d78f37",
   "metadata": {},
   "outputs": [
    {
     "name": "stdout",
     "output_type": "stream",
     "text": [
      "(18.5, 1)\n",
      "(17.783333333333335, 2)\n"
     ]
    }
   ],
   "source": [
    "query(\"SELECT AVG(Price) AS AveragePrice, CategoryID FROM Products GROUP BY CategoryID;\")"
   ]
  },
  {
   "cell_type": "code",
   "execution_count": 47,
   "id": "8e1cca0e",
   "metadata": {},
   "outputs": [
    {
     "name": "stdout",
     "output_type": "stream",
     "text": [
      "(1, 'Alfreds Futterkiste', 'Maria Anders', 'Obere Str. 57', 'Berlin', '12209', 'Germany')\n",
      "(2, 'Ana Trujillo Emparedados y helados', 'Ana Trujillo', 'Avda. de la Constitución 2222', 'México D.F.', '05021', 'Mexico')\n",
      "(3, 'Antonio Moreno Taquería', 'Antonio Moreno', 'Mataderos 2312', 'México D.F.', '05023', 'Mexico')\n",
      "(4, 'Around the Horn', 'Thomas Hardy', '120 Hanover Sq.', 'London', 'WA1 1DP', 'UK')\n"
     ]
    }
   ],
   "source": [
    "query(\"SELECT * FROM Customers WHERE CustomerName LIKE 'a%';\")"
   ]
  },
  {
   "cell_type": "code",
   "execution_count": 48,
   "id": "139a5be5",
   "metadata": {},
   "outputs": [
    {
     "name": "stdout",
     "output_type": "stream",
     "text": [
      "(4, 'Around the Horn', 'Thomas Hardy', '120 Hanover Sq.', 'London', 'WA1 1DP', 'UK')\n",
      "(15, 'Consolidated Holdings', 'Elizabeth Brown', 'Berkeley Gardens 12 Brewery', 'London', 'WX1 6LT', 'UK')\n",
      "(18, 'Eastern Connection', 'Ann Devon', '35 King George', 'London', 'WX3 6FW', 'UK')\n"
     ]
    }
   ],
   "source": [
    "query(\"SELECT * FROM Customers WHERE city LIKE 'L_nd__';\")"
   ]
  },
  {
   "cell_type": "code",
   "execution_count": 49,
   "id": "6bc7a19a",
   "metadata": {},
   "outputs": [
    {
     "name": "stdout",
     "output_type": "stream",
     "text": [
      "(1, 'Alfreds Futterkiste', 'Maria Anders', 'Obere Str. 57', 'Berlin', '12209', 'Germany')\n",
      "(4, 'Around the Horn', 'Thomas Hardy', '120 Hanover Sq.', 'London', 'WA1 1DP', 'UK')\n",
      "(5, 'Berglunds snabbköp', 'Christina Berglund', 'Berguvsvägen 8', 'Luleå', 'S-958 22', 'Sweden')\n",
      "(9, \"Bon app'\", 'Laurence Lebihan', '12, rue des Bouchers', 'Marseille', '13008', 'France')\n",
      "(14, 'Comércio Mineiro', 'Pedro Afonso', 'Av. dos Lusíadas, 23', 'São Paulo', '05432-043', 'Brazil')\n",
      "(15, 'Consolidated Holdings', 'Elizabeth Brown', 'Berkeley Gardens 12 Brewery', 'London', 'WX1 6LT', 'UK')\n",
      "(18, 'Eastern Connection', 'Ann Devon', '35 King George', 'London', 'WX3 6FW', 'UK')\n"
     ]
    }
   ],
   "source": [
    "query(\"SELECT * FROM Customers WHERE city LIKE '%L%';\")"
   ]
  },
  {
   "cell_type": "code",
   "execution_count": 50,
   "id": "3bdb508a",
   "metadata": {},
   "outputs": [
    {
     "name": "stdout",
     "output_type": "stream",
     "text": [
      "(1, 'Alfreds Futterkiste', 'Maria Anders', 'Obere Str. 57', 'Berlin', '12209', 'Germany')\n"
     ]
    }
   ],
   "source": [
    "query(\"SELECT * FROM Customers WHERE CustomerName LIKE 'Al%';\")"
   ]
  },
  {
   "cell_type": "code",
   "execution_count": 51,
   "id": "9235eca5",
   "metadata": {},
   "outputs": [
    {
     "name": "stdout",
     "output_type": "stream",
     "text": [
      "(1, 'Alfreds Futterkiste', 'Maria Anders', 'Obere Str. 57', 'Berlin', '12209', 'Germany')\n",
      "(2, 'Ana Trujillo Emparedados y helados', 'Ana Trujillo', 'Avda. de la Constitución 2222', 'México D.F.', '05021', 'Mexico')\n",
      "(3, 'Antonio Moreno Taquería', 'Antonio Moreno', 'Mataderos 2312', 'México D.F.', '05023', 'Mexico')\n",
      "(4, 'Around the Horn', 'Thomas Hardy', '120 Hanover Sq.', 'London', 'WA1 1DP', 'UK')\n",
      "(5, 'Berglunds snabbköp', 'Christina Berglund', 'Berguvsvägen 8', 'Luleå', 'S-958 22', 'Sweden')\n",
      "(6, 'Blauer See Delikatessen', 'Hanna Moos', 'Forsterstr. 57', 'Mannheim', '68306', 'Germany')\n",
      "(7, 'Blondel père et fils', 'Frédérique Citeaux', '24, place Kléber', 'Strasbourg', '67000', 'France')\n",
      "(8, 'Bólido Comidas preparadas', 'Martín Sommer', 'C/ Araquil, 67', 'Madrid', '28023', 'Spain')\n",
      "(9, \"Bon app'\", 'Laurence Lebihan', '12, rue des Bouchers', 'Marseille', '13008', 'France')\n",
      "(10, 'Bottom-Dollar Marketse', 'Elizabeth Lincoln', '23 Tsawassen Blvd.', 'Tsawassen', 'T2F 8M4', 'Canada')\n"
     ]
    }
   ],
   "source": [
    "query(\"SELECT * FROM Customers WHERE CustomerName LIKE 'a%' OR CustomerName LIKE 'b%';\")"
   ]
  },
  {
   "cell_type": "code",
   "execution_count": 52,
   "id": "6d6baeee",
   "metadata": {},
   "outputs": [
    {
     "name": "stdout",
     "output_type": "stream",
     "text": [
      "(3, 'Antonio Moreno Taquería', 'Antonio Moreno', 'Mataderos 2312', 'México D.F.', '05023', 'Mexico')\n",
      "(12, 'Centro comercial Moctezuma', 'Francisco Chang', 'Sierras de Granada 9993', 'México D.F.', '05022', 'Mexico')\n"
     ]
    }
   ],
   "source": [
    "query(\"SELECT * FROM Customers WHERE CustomerName LIKE '%a';\")"
   ]
  },
  {
   "cell_type": "code",
   "execution_count": 53,
   "id": "275ba26d",
   "metadata": {},
   "outputs": [
    {
     "name": "stdout",
     "output_type": "stream",
     "text": [
      "(7, 'Blondel père et fils', 'Frédérique Citeaux', '24, place Kléber', 'Strasbourg', '67000', 'France')\n",
      "(8, 'Bólido Comidas preparadas', 'Martín Sommer', 'C/ Araquil, 67', 'Madrid', '28023', 'Spain')\n"
     ]
    }
   ],
   "source": [
    "query(\"SELECT * FROM Customers WHERE CustomerName LIKE 'b%s';\")"
   ]
  },
  {
   "cell_type": "code",
   "execution_count": 54,
   "id": "c4394ed7",
   "metadata": {},
   "outputs": [
    {
     "name": "stdout",
     "output_type": "stream",
     "text": [
      "(3, 'Antonio Moreno Taquería', 'Antonio Moreno', 'Mataderos 2312', 'México D.F.', '05023', 'Mexico')\n",
      "(4, 'Around the Horn', 'Thomas Hardy', '120 Hanover Sq.', 'London', 'WA1 1DP', 'UK')\n"
     ]
    }
   ],
   "source": [
    "query(\"SELECT * FROM Customers WHERE CustomerName LIKE '%or%';\")"
   ]
  },
  {
   "cell_type": "code",
   "execution_count": 55,
   "id": "4ddc7da8",
   "metadata": {},
   "outputs": [
    {
     "name": "stdout",
     "output_type": "stream",
     "text": [
      "(1, 'Alfreds Futterkiste', 'Maria Anders', 'Obere Str. 57', 'Berlin', '12209', 'Germany')\n",
      "(2, 'Ana Trujillo Emparedados y helados', 'Ana Trujillo', 'Avda. de la Constitución 2222', 'México D.F.', '05021', 'Mexico')\n",
      "(3, 'Antonio Moreno Taquería', 'Antonio Moreno', 'Mataderos 2312', 'México D.F.', '05023', 'Mexico')\n",
      "(4, 'Around the Horn', 'Thomas Hardy', '120 Hanover Sq.', 'London', 'WA1 1DP', 'UK')\n"
     ]
    }
   ],
   "source": [
    "query(\"SELECT * FROM Customers WHERE CustomerName LIKE 'a__%';\")"
   ]
  },
  {
   "cell_type": "code",
   "execution_count": 56,
   "id": "5feb1517",
   "metadata": {},
   "outputs": [
    {
     "name": "stdout",
     "output_type": "stream",
     "text": [
      "(4, 'Around the Horn', 'Thomas Hardy', '120 Hanover Sq.', 'London', 'WA1 1DP', 'UK')\n",
      "(16, 'Drachenblut Delikatessen', 'Sven Ottlieb', 'Walserweg 21', 'Aachen', '52066', 'Germany')\n",
      "(19, 'Ernst Handel', 'Roland Mendel', 'Kirchgasse 6', 'Graz', '8010', 'Austria')\n"
     ]
    }
   ],
   "source": [
    "query(\"SELECT * FROM Customers WHERE CustomerName LIKE '_r%';\")"
   ]
  },
  {
   "cell_type": "code",
   "execution_count": 57,
   "id": "2fff0267",
   "metadata": {},
   "outputs": [
    {
     "name": "stdout",
     "output_type": "stream",
     "text": [
      "(8, 'Bólido Comidas preparadas', 'Martín Sommer', 'C/ Araquil, 67', 'Madrid', '28023', 'Spain')\n"
     ]
    }
   ],
   "source": [
    "query(\"SELECT * FROM Customers WHERE Country LIKE 'Spain';\")"
   ]
  },
  {
   "cell_type": "code",
   "execution_count": 58,
   "id": "64f6d0ba",
   "metadata": {},
   "outputs": [
    {
     "name": "stdout",
     "output_type": "stream",
     "text": [
      "(1, 'Alfreds Futterkiste', 'Maria Anders', 'Obere Str. 57', 'Berlin', '12209', 'Germany')\n",
      "(2, 'Ana Trujillo Emparedados y helados', 'Ana Trujillo', 'Avda. de la Constitución 2222', 'México D.F.', '05021', 'Mexico')\n",
      "(3, 'Antonio Moreno Taquería', 'Antonio Moreno', 'Mataderos 2312', 'México D.F.', '05023', 'Mexico')\n",
      "(4, 'Around the Horn', 'Thomas Hardy', '120 Hanover Sq.', 'London', 'WA1 1DP', 'UK')\n"
     ]
    }
   ],
   "source": [
    "query(\"SELECT * FROM Customers WHERE CustomerName LIKE 'a%';\")"
   ]
  },
  {
   "cell_type": "code",
   "execution_count": 59,
   "id": "053fb364",
   "metadata": {},
   "outputs": [
    {
     "name": "stdout",
     "output_type": "stream",
     "text": [
      "(1, 'Alfreds Futterkiste', 'Maria Anders', 'Obere Str. 57', 'Berlin', '12209', 'Germany')\n"
     ]
    }
   ],
   "source": [
    "query(\"SELECT * FROM Customers WHERE CustomerName LIKE '%te';\")"
   ]
  },
  {
   "cell_type": "code",
   "execution_count": 60,
   "id": "f3a74bac",
   "metadata": {},
   "outputs": [
    {
     "name": "stdout",
     "output_type": "stream",
     "text": [
      "(4, 'Around the Horn', 'Thomas Hardy', '120 Hanover Sq.', 'London', 'WA1 1DP', 'UK')\n"
     ]
    }
   ],
   "source": [
    "query(\"SELECT * FROM Customers WHERE CustomerName LIKE '%orn%';\")"
   ]
  },
  {
   "cell_type": "code",
   "execution_count": 61,
   "id": "aeed0a99",
   "metadata": {},
   "outputs": [
    {
     "name": "stdout",
     "output_type": "stream",
     "text": [
      "(4, 'Around the Horn', 'Thomas Hardy', '120 Hanover Sq.', 'London', 'WA1 1DP', 'UK')\n",
      "(15, 'Consolidated Holdings', 'Elizabeth Brown', 'Berkeley Gardens 12 Brewery', 'London', 'WX1 6LT', 'UK')\n",
      "(18, 'Eastern Connection', 'Ann Devon', '35 King George', 'London', 'WX3 6FW', 'UK')\n"
     ]
    }
   ],
   "source": [
    "query(\"SELECT * FROM Customers WHERE City LIKE '_ondon';\")"
   ]
  },
  {
   "cell_type": "code",
   "execution_count": 62,
   "id": "b6e111fa",
   "metadata": {},
   "outputs": [
    {
     "name": "stdout",
     "output_type": "stream",
     "text": [
      "(4, 'Around the Horn', 'Thomas Hardy', '120 Hanover Sq.', 'London', 'WA1 1DP', 'UK')\n",
      "(15, 'Consolidated Holdings', 'Elizabeth Brown', 'Berkeley Gardens 12 Brewery', 'London', 'WX1 6LT', 'UK')\n",
      "(18, 'Eastern Connection', 'Ann Devon', '35 King George', 'London', 'WX3 6FW', 'UK')\n"
     ]
    }
   ],
   "source": [
    "query(\"SELECT * FROM Customers WHERE City LIKE 'L___on';\")"
   ]
  },
  {
   "cell_type": "code",
   "execution_count": 63,
   "id": "5f9fb6b8",
   "metadata": {},
   "outputs": [],
   "source": [
    "query(\"SELECT * FROM Customers WHERE CustomerName LIKE '[A]%';\")"
   ]
  },
  {
   "cell_type": "code",
   "execution_count": 64,
   "id": "4f83f580",
   "metadata": {},
   "outputs": [],
   "source": [
    "query(\"SELECT * FROM Customers WHERE CustomerName LIKE '[a-f]%';\")"
   ]
  },
  {
   "cell_type": "code",
   "execution_count": 65,
   "id": "ffbb6d85",
   "metadata": {},
   "outputs": [
    {
     "name": "stdout",
     "output_type": "stream",
     "text": [
      "(1, 'Alfreds Futterkiste', 'Maria Anders', 'Obere Str. 57', 'Berlin', '12209', 'Germany')\n",
      "(2, 'Ana Trujillo Emparedados y helados', 'Ana Trujillo', 'Avda. de la Constitución 2222', 'México D.F.', '05021', 'Mexico')\n",
      "(3, 'Antonio Moreno Taquería', 'Antonio Moreno', 'Mataderos 2312', 'México D.F.', '05023', 'Mexico')\n",
      "(4, 'Around the Horn', 'Thomas Hardy', '120 Hanover Sq.', 'London', 'WA1 1DP', 'UK')\n"
     ]
    }
   ],
   "source": [
    "query(\"SELECT * FROM Customers WHERE CustomerName LIKE 'a__%';\")"
   ]
  },
  {
   "cell_type": "code",
   "execution_count": 66,
   "id": "69daf784",
   "metadata": {},
   "outputs": [
    {
     "name": "stdout",
     "output_type": "stream",
     "text": [
      "(4, 'Around the Horn', 'Thomas Hardy', '120 Hanover Sq.', 'London', 'WA1 1DP', 'UK')\n",
      "(16, 'Drachenblut Delikatessen', 'Sven Ottlieb', 'Walserweg 21', 'Aachen', '52066', 'Germany')\n",
      "(19, 'Ernst Handel', 'Roland Mendel', 'Kirchgasse 6', 'Graz', '8010', 'Austria')\n"
     ]
    }
   ],
   "source": [
    "query(\"SELECT * FROM Customers WHERE CustomerName LIKE '_r%';\")"
   ]
  },
  {
   "cell_type": "code",
   "execution_count": 67,
   "id": "9daa0a46",
   "metadata": {},
   "outputs": [
    {
     "name": "stdout",
     "output_type": "stream",
     "text": [
      "(8, 'Bólido Comidas preparadas', 'Martín Sommer', 'C/ Araquil, 67', 'Madrid', '28023', 'Spain')\n"
     ]
    }
   ],
   "source": [
    "query(\"SELECT * FROM Customers WHERE Country LIKE 'Spain';\")"
   ]
  },
  {
   "cell_type": "code",
   "execution_count": 68,
   "id": "7f779b05",
   "metadata": {},
   "outputs": [
    {
     "name": "stdout",
     "output_type": "stream",
     "text": [
      "(1, 'Alfreds Futterkiste', 'Maria Anders', 'Obere Str. 57', 'Berlin', '12209', 'Germany')\n",
      "(4, 'Around the Horn', 'Thomas Hardy', '120 Hanover Sq.', 'London', 'WA1 1DP', 'UK')\n",
      "(6, 'Blauer See Delikatessen', 'Hanna Moos', 'Forsterstr. 57', 'Mannheim', '68306', 'Germany')\n",
      "(7, 'Blondel père et fils', 'Frédérique Citeaux', '24, place Kléber', 'Strasbourg', '67000', 'France')\n",
      "(9, \"Bon app'\", 'Laurence Lebihan', '12, rue des Bouchers', 'Marseille', '13008', 'France')\n",
      "(15, 'Consolidated Holdings', 'Elizabeth Brown', 'Berkeley Gardens 12 Brewery', 'London', 'WX1 6LT', 'UK')\n",
      "(16, 'Drachenblut Delikatessen', 'Sven Ottlieb', 'Walserweg 21', 'Aachen', '52066', 'Germany')\n",
      "(17, 'Du monde entier', 'Janine Labrune', '67, rue des Cinquante Otages', 'Nantes', '44000', 'France')\n",
      "(18, 'Eastern Connection', 'Ann Devon', '35 King George', 'London', 'WX3 6FW', 'UK')\n"
     ]
    }
   ],
   "source": [
    "query(\"SELECT * FROM Customers WHERE Country IN ('Germany', 'France', 'UK');\")"
   ]
  },
  {
   "cell_type": "code",
   "execution_count": 69,
   "id": "2dcf091a",
   "metadata": {},
   "outputs": [
    {
     "name": "stdout",
     "output_type": "stream",
     "text": [
      "(2, 'Ana Trujillo Emparedados y helados', 'Ana Trujillo', 'Avda. de la Constitución 2222', 'México D.F.', '05021', 'Mexico')\n",
      "(3, 'Antonio Moreno Taquería', 'Antonio Moreno', 'Mataderos 2312', 'México D.F.', '05023', 'Mexico')\n",
      "(5, 'Berglunds snabbköp', 'Christina Berglund', 'Berguvsvägen 8', 'Luleå', 'S-958 22', 'Sweden')\n",
      "(8, 'Bólido Comidas preparadas', 'Martín Sommer', 'C/ Araquil, 67', 'Madrid', '28023', 'Spain')\n",
      "(10, 'Bottom-Dollar Marketse', 'Elizabeth Lincoln', '23 Tsawassen Blvd.', 'Tsawassen', 'T2F 8M4', 'Canada')\n",
      "(11, 'Cactus Comidas para llevar', 'Patricio Simpson', 'Cerrito 333', 'Buenos Aires', '1010', 'Argentina')\n",
      "(12, 'Centro comercial Moctezuma', 'Francisco Chang', 'Sierras de Granada 9993', 'México D.F.', '05022', 'Mexico')\n",
      "(13, 'Chop-suey Chinese', 'Yang Wang', 'Hauptstr. 29', 'Bern', '3012', 'Switzerland')\n",
      "(14, 'Comércio Mineiro', 'Pedro Afonso', 'Av. dos Lusíadas, 23', 'São Paulo', '05432-043', 'Brazil')\n",
      "(19, 'Ernst Handel', 'Roland Mendel', 'Kirchgasse 6', 'Graz', '8010', 'Austria')\n",
      "(20, 'Familia Arquibaldo', 'Aria Cruz', 'Rua Orós, 92', 'Rio de Janeiro', '05442-030', 'Brazil')\n"
     ]
    }
   ],
   "source": [
    "query(\"SELECT * FROM Customers WHERE Country NOT IN ('Germany', 'France', 'UK');\")"
   ]
  },
  {
   "cell_type": "code",
   "execution_count": 70,
   "id": "9b7cb843",
   "metadata": {},
   "outputs": [
    {
     "name": "stdout",
     "output_type": "stream",
     "text": [
      "(1, 'Alfreds Futterkiste', 'Maria Anders', 'Obere Str. 57', 'Berlin', '12209', 'Germany')\n",
      "(2, 'Ana Trujillo Emparedados y helados', 'Ana Trujillo', 'Avda. de la Constitución 2222', 'México D.F.', '05021', 'Mexico')\n",
      "(3, 'Antonio Moreno Taquería', 'Antonio Moreno', 'Mataderos 2312', 'México D.F.', '05023', 'Mexico')\n",
      "(4, 'Around the Horn', 'Thomas Hardy', '120 Hanover Sq.', 'London', 'WA1 1DP', 'UK')\n",
      "(5, 'Berglunds snabbköp', 'Christina Berglund', 'Berguvsvägen 8', 'Luleå', 'S-958 22', 'Sweden')\n",
      "(6, 'Blauer See Delikatessen', 'Hanna Moos', 'Forsterstr. 57', 'Mannheim', '68306', 'Germany')\n",
      "(7, 'Blondel père et fils', 'Frédérique Citeaux', '24, place Kléber', 'Strasbourg', '67000', 'France')\n",
      "(8, 'Bólido Comidas preparadas', 'Martín Sommer', 'C/ Araquil, 67', 'Madrid', '28023', 'Spain')\n",
      "(9, \"Bon app'\", 'Laurence Lebihan', '12, rue des Bouchers', 'Marseille', '13008', 'France')\n",
      "(10, 'Bottom-Dollar Marketse', 'Elizabeth Lincoln', '23 Tsawassen Blvd.', 'Tsawassen', 'T2F 8M4', 'Canada')\n",
      "(11, 'Cactus Comidas para llevar', 'Patricio Simpson', 'Cerrito 333', 'Buenos Aires', '1010', 'Argentina')\n",
      "(12, 'Centro comercial Moctezuma', 'Francisco Chang', 'Sierras de Granada 9993', 'México D.F.', '05022', 'Mexico')\n",
      "(13, 'Chop-suey Chinese', 'Yang Wang', 'Hauptstr. 29', 'Bern', '3012', 'Switzerland')\n",
      "(14, 'Comércio Mineiro', 'Pedro Afonso', 'Av. dos Lusíadas, 23', 'São Paulo', '05432-043', 'Brazil')\n",
      "(15, 'Consolidated Holdings', 'Elizabeth Brown', 'Berkeley Gardens 12 Brewery', 'London', 'WX1 6LT', 'UK')\n",
      "(16, 'Drachenblut Delikatessen', 'Sven Ottlieb', 'Walserweg 21', 'Aachen', '52066', 'Germany')\n",
      "(17, 'Du monde entier', 'Janine Labrune', '67, rue des Cinquante Otages', 'Nantes', '44000', 'France')\n",
      "(18, 'Eastern Connection', 'Ann Devon', '35 King George', 'London', 'WX3 6FW', 'UK')\n",
      "(19, 'Ernst Handel', 'Roland Mendel', 'Kirchgasse 6', 'Graz', '8010', 'Austria')\n",
      "(20, 'Familia Arquibaldo', 'Aria Cruz', 'Rua Orós, 92', 'Rio de Janeiro', '05442-030', 'Brazil')\n"
     ]
    }
   ],
   "source": [
    "query(\"SELECT * FROM Customers WHERE CustomerID IN (SELECT CustomerID FROM OrderDetails);\")"
   ]
  },
  {
   "cell_type": "code",
   "execution_count": 71,
   "id": "68006ab3",
   "metadata": {},
   "outputs": [],
   "source": [
    "query(\"SELECT * FROM Customers WHERE CustomerID NOT IN (SELECT CustomerID FROM OrderDetails);\")"
   ]
  },
  {
   "cell_type": "code",
   "execution_count": 72,
   "id": "9bf333bd",
   "metadata": {},
   "outputs": [
    {
     "name": "stdout",
     "output_type": "stream",
     "text": [
      "(1, 'Chais', 1, 1, '10 boxes x 20 bags', 18.0)\n",
      "(2, 'Chang', 1, 1, '24 - 12 oz bottles', 19.0)\n",
      "(3, 'Aniseed Syrup', 1, 2, '12 - 550 ml bottles', 10.0)\n"
     ]
    }
   ],
   "source": [
    "query(\"SELECT * FROM Products WHERE Price BETWEEN 10 AND 20;\")"
   ]
  },
  {
   "cell_type": "code",
   "execution_count": 73,
   "id": "14c34b42",
   "metadata": {},
   "outputs": [
    {
     "name": "stdout",
     "output_type": "stream",
     "text": [
      "(4, \"Chef Anton's Cajun Seasoning\", 2, 2, '48 - 6 oz jars', 22.0)\n",
      "(5, \"Chef Anton's Gumbo Mix\", 2, 2, '36 boxes', 21.35)\n"
     ]
    }
   ],
   "source": [
    "query(\"SELECT * FROM Products WHERE Price NOT BETWEEN 10 AND 20;\")"
   ]
  },
  {
   "cell_type": "code",
   "execution_count": 74,
   "id": "05a546d4",
   "metadata": {},
   "outputs": [
    {
     "name": "stdout",
     "output_type": "stream",
     "text": [
      "(1, 'Chais', 1, 1, '10 boxes x 20 bags', 18.0)\n",
      "(2, 'Chang', 1, 1, '24 - 12 oz bottles', 19.0)\n",
      "(3, 'Aniseed Syrup', 1, 2, '12 - 550 ml bottles', 10.0)\n"
     ]
    }
   ],
   "source": [
    "query(\"SELECT * FROM Products WHERE Price BETWEEN 10 AND 20 AND CategoryID IN (1,2,3);\")"
   ]
  },
  {
   "cell_type": "code",
   "execution_count": 75,
   "id": "6157a996",
   "metadata": {},
   "outputs": [
    {
     "name": "stdout",
     "output_type": "stream",
     "text": [
      "(1, 'Chais', 1, 1, '10 boxes x 20 bags', 18.0)\n",
      "(2, 'Chang', 1, 1, '24 - 12 oz bottles', 19.0)\n",
      "(4, \"Chef Anton's Cajun Seasoning\", 2, 2, '48 - 6 oz jars', 22.0)\n",
      "(5, \"Chef Anton's Gumbo Mix\", 2, 2, '36 boxes', 21.35)\n"
     ]
    }
   ],
   "source": [
    "query(\"SELECT * FROM Products WHERE ProductName BETWEEN 'Carnarvon Tigers' AND 'Mozzarella di Giovanni' ORDER BY ProductName;\")"
   ]
  },
  {
   "cell_type": "code",
   "execution_count": 76,
   "id": "6ffc07d3",
   "metadata": {},
   "outputs": [
    {
     "name": "stdout",
     "output_type": "stream",
     "text": [
      "(1, 'Chais', 1, 1, '10 boxes x 20 bags', 18.0)\n",
      "(2, 'Chang', 1, 1, '24 - 12 oz bottles', 19.0)\n",
      "(4, \"Chef Anton's Cajun Seasoning\", 2, 2, '48 - 6 oz jars', 22.0)\n"
     ]
    }
   ],
   "source": [
    "query(\"SELECT * FROM Products  WHERE ProductName BETWEEN 'Carnarvon Tigers' AND 'Chef Anton''s Cajun Seasoning' ORDER BY ProductName;\")"
   ]
  },
  {
   "cell_type": "code",
   "execution_count": 77,
   "id": "4094cf23",
   "metadata": {},
   "outputs": [
    {
     "name": "stdout",
     "output_type": "stream",
     "text": [
      "(3, 'Aniseed Syrup', 1, 2, '12 - 550 ml bottles', 10.0)\n"
     ]
    }
   ],
   "source": [
    "query(\"SELECT * FROM Products WHERE ProductName NOT BETWEEN 'Carnarvon Tigers' AND 'Mozzarella di Giovanni' ORDER BY ProductName;\")"
   ]
  },
  {
   "cell_type": "code",
   "execution_count": 81,
   "id": "f1a05add",
   "metadata": {},
   "outputs": [],
   "source": [
    "conn = sqlite3.connect('demo.db')\n",
    "cursor = conn.cursor()\n",
    "\n",
    "# 테이블 생성\n",
    "cursor.execute(\"\"\"\n",
    "CREATE TABLE IF NOT EXISTS Orders (\n",
    "    OrderID INTEGER PRIMARY KEY,\n",
    "    CustomerID INTEGER,\n",
    "    EmployeeID INTEGER,\n",
    "    OrderDate TEXT,\n",
    "    ShipperID INTEGER\n",
    ");\n",
    "\"\"\")\n",
    "\n",
    "# 데이터 삽입 (중복 방지)\n",
    "cursor.execute(\"SELECT COUNT(*) FROM Orders\")\n",
    "if cursor.fetchone()[0] == 0:\n",
    "    cursor.executescript(\"\"\"\n",
    "    INSERT INTO Orders (OrderID, CustomerID, EmployeeID, OrderDate, ShipperID) VALUES\n",
    "    (10248, 90, 5, '1996-07-04', 3),\n",
    "    (10249, 81, 6, '1996-07-05', 1),\n",
    "    (10250, 34, 4, '1996-07-08', 2),\n",
    "    (10251, 84, 3, '1996-07-09', 1),\n",
    "    (10252, 76, 4, '1996-07-10', 2),\n",
    "    (10253, 34, 3, '1996-07-11', 2),\n",
    "    (10254, 14, 5, '1996-07-12', 2),\n",
    "    (10255, 68, 6, '1996-07-15', 1),\n",
    "    (10256, 88, 3, '1996-07-16', 2),\n",
    "    (10257, 52, 1, '1996-07-17', 3),\n",
    "    (10258, 61, 2, '1996-07-18', 1),\n",
    "    (10259, 74, 4, '1996-07-19', 3),\n",
    "    (10260, 39, 4, '1996-07-22', 2),\n",
    "    (10261, 29, 2, '1996-07-23', 2),\n",
    "    (10262, 93, 1, '1996-07-24', 1),\n",
    "    (10263, 47, 5, '1996-07-25', 3),\n",
    "    (10264, 59, 3, '1996-07-26', 2),\n",
    "    (10265, 62, 2, '1996-07-29', 1),\n",
    "    (10266, 25, 4, '1996-07-30', 2),\n",
    "    (10267, 91, 6, '1996-07-31', 3);\n",
    "    \"\"\")\n",
    "\n",
    "conn.commit()"
   ]
  },
  {
   "cell_type": "code",
   "execution_count": 83,
   "id": "b64142bb",
   "metadata": {},
   "outputs": [
    {
     "name": "stdout",
     "output_type": "stream",
     "text": [
      "(10248, 90, 5, '1996-07-04', 3)\n",
      "(10249, 81, 6, '1996-07-05', 1)\n",
      "(10250, 34, 4, '1996-07-08', 2)\n",
      "(10251, 84, 3, '1996-07-09', 1)\n",
      "(10252, 76, 4, '1996-07-10', 2)\n",
      "(10253, 34, 3, '1996-07-11', 2)\n",
      "(10254, 14, 5, '1996-07-12', 2)\n",
      "(10255, 68, 6, '1996-07-15', 1)\n",
      "(10256, 88, 3, '1996-07-16', 2)\n",
      "(10257, 52, 1, '1996-07-17', 3)\n",
      "(10258, 61, 2, '1996-07-18', 1)\n",
      "(10259, 74, 4, '1996-07-19', 3)\n",
      "(10260, 39, 4, '1996-07-22', 2)\n",
      "(10261, 29, 2, '1996-07-23', 2)\n",
      "(10262, 93, 1, '1996-07-24', 1)\n",
      "(10263, 47, 5, '1996-07-25', 3)\n",
      "(10264, 59, 3, '1996-07-26', 2)\n",
      "(10265, 62, 2, '1996-07-29', 1)\n",
      "(10266, 25, 4, '1996-07-30', 2)\n",
      "(10267, 91, 6, '1996-07-31', 3)\n"
     ]
    }
   ],
   "source": [
    "query(\"SELECT * FROM Orders WHERE OrderDate BETWEEN '1996-07-01' AND '1996-07-31';\")"
   ]
  },
  {
   "cell_type": "code",
   "execution_count": 84,
   "id": "a39ec343",
   "metadata": {},
   "outputs": [
    {
     "name": "stdout",
     "output_type": "stream",
     "text": [
      "(1,)\n",
      "(2,)\n",
      "(3,)\n",
      "(4,)\n",
      "(5,)\n",
      "(6,)\n",
      "(7,)\n",
      "(8,)\n",
      "(9,)\n",
      "(10,)\n",
      "(11,)\n",
      "(12,)\n",
      "(13,)\n",
      "(14,)\n",
      "(15,)\n",
      "(16,)\n",
      "(17,)\n",
      "(18,)\n",
      "(19,)\n",
      "(20,)\n"
     ]
    }
   ],
   "source": [
    "query(\"SELECT CustomerID AS ID FROM Customers;\")"
   ]
  },
  {
   "cell_type": "code",
   "execution_count": 85,
   "id": "5da665c4",
   "metadata": {},
   "outputs": [
    {
     "name": "stdout",
     "output_type": "stream",
     "text": [
      "(1,)\n",
      "(2,)\n",
      "(3,)\n",
      "(4,)\n",
      "(5,)\n",
      "(6,)\n",
      "(7,)\n",
      "(8,)\n",
      "(9,)\n",
      "(10,)\n",
      "(11,)\n",
      "(12,)\n",
      "(13,)\n",
      "(14,)\n",
      "(15,)\n",
      "(16,)\n",
      "(17,)\n",
      "(18,)\n",
      "(19,)\n",
      "(20,)\n"
     ]
    }
   ],
   "source": [
    "query(\"SELECT CustomerID ID FROM Customers;\")"
   ]
  },
  {
   "cell_type": "code",
   "execution_count": 86,
   "id": "89e74224",
   "metadata": {},
   "outputs": [
    {
     "name": "stdout",
     "output_type": "stream",
     "text": [
      "(1, 'Alfreds Futterkiste')\n",
      "(2, 'Ana Trujillo Emparedados y helados')\n",
      "(3, 'Antonio Moreno Taquería')\n",
      "(4, 'Around the Horn')\n",
      "(5, 'Berglunds snabbköp')\n",
      "(6, 'Blauer See Delikatessen')\n",
      "(7, 'Blondel père et fils')\n",
      "(8, 'Bólido Comidas preparadas')\n",
      "(9, \"Bon app'\")\n",
      "(10, 'Bottom-Dollar Marketse')\n",
      "(11, 'Cactus Comidas para llevar')\n",
      "(12, 'Centro comercial Moctezuma')\n",
      "(13, 'Chop-suey Chinese')\n",
      "(14, 'Comércio Mineiro')\n",
      "(15, 'Consolidated Holdings')\n",
      "(16, 'Drachenblut Delikatessen')\n",
      "(17, 'Du monde entier')\n",
      "(18, 'Eastern Connection')\n",
      "(19, 'Ernst Handel')\n",
      "(20, 'Familia Arquibaldo')\n"
     ]
    }
   ],
   "source": [
    "query(\"SELECT CustomerID AS ID, CustomerName AS Customer FROM Customers;\")"
   ]
  },
  {
   "cell_type": "code",
   "execution_count": 87,
   "id": "4ec85410",
   "metadata": {},
   "outputs": [
    {
     "name": "stdout",
     "output_type": "stream",
     "text": [
      "('Chais',)\n",
      "('Chang',)\n",
      "('Aniseed Syrup',)\n",
      "(\"Chef Anton's Cajun Seasoning\",)\n",
      "(\"Chef Anton's Gumbo Mix\",)\n"
     ]
    }
   ],
   "source": [
    "query(\"SELECT ProductName AS [My Great Products] FROM Products;\")"
   ]
  },
  {
   "cell_type": "code",
   "execution_count": 89,
   "id": "f75a0152",
   "metadata": {},
   "outputs": [
    {
     "name": "stdout",
     "output_type": "stream",
     "text": [
      "('Chais',)\n",
      "('Chang',)\n",
      "('Aniseed Syrup',)\n",
      "(\"Chef Anton's Cajun Seasoning\",)\n",
      "(\"Chef Anton's Gumbo Mix\",)\n"
     ]
    }
   ],
   "source": [
    "query(\"SELECT ProductName AS 'My Great Products' FROM Products;\")"
   ]
  },
  {
   "cell_type": "code",
   "execution_count": 90,
   "id": "8278557e",
   "metadata": {},
   "outputs": [
    {
     "name": "stdout",
     "output_type": "stream",
     "text": [
      "('Alfreds Futterkiste', 12209)\n",
      "('Ana Trujillo Emparedados y helados', 5021)\n",
      "('Antonio Moreno Taquería', 5023)\n",
      "('Around the Horn', 120)\n",
      "('Berglunds snabbköp', 0)\n",
      "('Blauer See Delikatessen', 68306)\n",
      "('Blondel père et fils', 67024)\n",
      "('Bólido Comidas preparadas', 28023)\n",
      "(\"Bon app'\", 13020)\n",
      "('Bottom-Dollar Marketse', 23)\n",
      "('Cactus Comidas para llevar', 1010)\n",
      "('Centro comercial Moctezuma', 5022)\n",
      "('Chop-suey Chinese', 3012)\n",
      "('Comércio Mineiro', 5432)\n",
      "('Consolidated Holdings', 0)\n",
      "('Drachenblut Delikatessen', 52066)\n",
      "('Du monde entier', 44067)\n",
      "('Eastern Connection', 35)\n",
      "('Ernst Handel', 8010)\n",
      "('Familia Arquibaldo', 5442)\n"
     ]
    }
   ],
   "source": [
    "query(\"SELECT CustomerName, Address + ', ' + PostalCode + ' ' + City + ', ' + Country AS Address FROM Customers;\")"
   ]
  },
  {
   "cell_type": "code",
   "execution_count": 91,
   "id": "f7a3528c",
   "metadata": {},
   "outputs": [
    {
     "name": "stdout",
     "output_type": "stream",
     "text": [
      "('Alfreds Futterkiste', 'Obere Str. 57, 12209, Berlin, Germany')\n",
      "('Ana Trujillo Emparedados y helados', 'Avda. de la Constitución 2222, 05021, México D.F., Mexico')\n",
      "('Antonio Moreno Taquería', 'Mataderos 2312, 05023, México D.F., Mexico')\n",
      "('Around the Horn', '120 Hanover Sq., WA1 1DP, London, UK')\n",
      "('Berglunds snabbköp', 'Berguvsvägen 8, S-958 22, Luleå, Sweden')\n",
      "('Blauer See Delikatessen', 'Forsterstr. 57, 68306, Mannheim, Germany')\n",
      "('Blondel père et fils', '24, place Kléber, 67000, Strasbourg, France')\n",
      "('Bólido Comidas preparadas', 'C/ Araquil, 67, 28023, Madrid, Spain')\n",
      "(\"Bon app'\", '12, rue des Bouchers, 13008, Marseille, France')\n",
      "('Bottom-Dollar Marketse', '23 Tsawassen Blvd., T2F 8M4, Tsawassen, Canada')\n",
      "('Cactus Comidas para llevar', 'Cerrito 333, 1010, Buenos Aires, Argentina')\n",
      "('Centro comercial Moctezuma', 'Sierras de Granada 9993, 05022, México D.F., Mexico')\n",
      "('Chop-suey Chinese', 'Hauptstr. 29, 3012, Bern, Switzerland')\n",
      "('Comércio Mineiro', 'Av. dos Lusíadas, 23, 05432-043, São Paulo, Brazil')\n",
      "('Consolidated Holdings', 'Berkeley Gardens 12 Brewery, WX1 6LT, London, UK')\n",
      "('Drachenblut Delikatessen', 'Walserweg 21, 52066, Aachen, Germany')\n",
      "('Du monde entier', '67, rue des Cinquante Otages, 44000, Nantes, France')\n",
      "('Eastern Connection', '35 King George, WX3 6FW, London, UK')\n",
      "('Ernst Handel', 'Kirchgasse 6, 8010, Graz, Austria')\n",
      "('Familia Arquibaldo', 'Rua Orós, 92, 05442-030, Rio de Janeiro, Brazil')\n"
     ]
    }
   ],
   "source": [
    "query(\"SELECT CustomerName, CONCAT(Address,', ',PostalCode,', ',City,', ',Country) AS Address FROM Customers;\")"
   ]
  },
  {
   "cell_type": "code",
   "execution_count": 93,
   "id": "c2dd6d0b",
   "metadata": {},
   "outputs": [],
   "source": [
    "query(\"SELECT o.OrderID, o.OrderDate, c.CustomerName FROM Customers AS c, Orders AS o WHERE c.CustomerName='Alfreds Futterkiste' AND c.CustomerID=o.CustomerID;\")"
   ]
  },
  {
   "cell_type": "code",
   "execution_count": 94,
   "id": "9fe8f52b",
   "metadata": {},
   "outputs": [
    {
     "name": "stdout",
     "output_type": "stream",
     "text": [
      "(10254, 'Comércio Mineiro', '1996-07-12')\n"
     ]
    }
   ],
   "source": [
    "query(\"SELECT Orders.OrderID, Customers.CustomerName, Orders.OrderDate FROM Orders INNER JOIN Customers ON Orders.CustomerID=Customers.CustomerID;\")"
   ]
  },
  {
   "cell_type": "code",
   "execution_count": 96,
   "id": "05750945",
   "metadata": {},
   "outputs": [],
   "source": [
    "conn = sqlite3.connect('demo.db')\n",
    "cursor = conn.cursor()\n",
    "\n",
    "# 테이블 생성\n",
    "cursor.execute(\"\"\"\n",
    "CREATE TABLE IF NOT EXISTS Categories (\n",
    "    CategoryID INTEGER PRIMARY KEY,\n",
    "    CategoryName TEXT,\n",
    "    Description TEXT\n",
    ");\n",
    "\"\"\")\n",
    "\n",
    "# 데이터 삽입\n",
    "cursor.execute(\"SELECT COUNT(*) FROM Categories\")\n",
    "if cursor.fetchone()[0] == 0:\n",
    "    cursor.executescript(\"\"\"\n",
    "    INSERT INTO Categories (CategoryID, CategoryName, Description) VALUES\n",
    "    (1, 'Beverages', 'Soft drinks, coffees, teas, beers, and ales'),\n",
    "    (2, 'Condiments', 'Sweet and savory sauces, relishes, spreads, and seasonings'),\n",
    "    (3, 'Confections', 'Desserts, candies, and sweet breads'),\n",
    "    (4, 'Dairy Products', 'Cheeses, milk, yogurts, and other dairy items'),\n",
    "    (5, 'Grains/Cereals', 'Breads, cereals, crackers, pasta, and rice'),\n",
    "    (6, 'Meat/Poultry', 'Prepared and fresh meats'),\n",
    "    (7, 'Produce', 'Dried fruit and bean curd, fresh vegetables'),\n",
    "    (8, 'Seafood', 'Seaweed and fish products'),\n",
    "    (9, 'Snacks', 'Chips, cookies, and packaged snack foods'),\n",
    "    (10, 'Frozen Foods', 'Frozen meals, vegetables, and desserts'),\n",
    "    (11, 'Baking Goods', 'Flour, sugar, baking powder, cake mixes'),\n",
    "    (12, 'Canned Goods', 'Canned fruits, vegetables, and soups'),\n",
    "    (13, 'Pasta & Rice', 'Spaghetti, macaroni, instant rice, noodles'),\n",
    "    (14, 'Sauces & Oils', 'Cooking oils, ketchup, mustard, mayonnaise'),\n",
    "    (15, 'Breakfast Foods', 'Cereals, pancake mix, syrup'),\n",
    "    (16, 'Soups & Broths', 'Instant soups, bouillon, stew bases'),\n",
    "    (17, 'Baby Foods', 'Formula, baby cereal, puree pouches'),\n",
    "    (18, 'Pet Supplies', 'Pet food, treats, and pet care items'),\n",
    "    (19, 'Cleaning Supplies', 'Detergents, dish soap, surface cleaners'),\n",
    "    (20, 'International', 'Imported specialty food items')\n",
    "    \"\"\")\n",
    "\n",
    "conn.commit()\n"
   ]
  },
  {
   "cell_type": "code",
   "execution_count": 97,
   "id": "d3fd1a97",
   "metadata": {},
   "outputs": [
    {
     "name": "stdout",
     "output_type": "stream",
     "text": [
      "(1, 'Chais', 'Beverages')\n",
      "(2, 'Chang', 'Beverages')\n",
      "(3, 'Aniseed Syrup', 'Condiments')\n",
      "(4, \"Chef Anton's Cajun Seasoning\", 'Condiments')\n",
      "(5, \"Chef Anton's Gumbo Mix\", 'Condiments')\n"
     ]
    }
   ],
   "source": [
    "query(\"SELECT ProductID, ProductName, CategoryName FROM Products INNER JOIN Categories ON Products.CategoryID = Categories.CategoryID;\")"
   ]
  },
  {
   "cell_type": "code",
   "execution_count": 98,
   "id": "290598ff",
   "metadata": {},
   "outputs": [
    {
     "name": "stdout",
     "output_type": "stream",
     "text": [
      "(1, 'Chais', 'Beverages')\n",
      "(2, 'Chang', 'Beverages')\n",
      "(3, 'Aniseed Syrup', 'Condiments')\n",
      "(4, \"Chef Anton's Cajun Seasoning\", 'Condiments')\n",
      "(5, \"Chef Anton's Gumbo Mix\", 'Condiments')\n"
     ]
    }
   ],
   "source": [
    "query(\"SELECT Products.ProductID, Products.ProductName, Categories.CategoryName FROM Products INNER JOIN Categories ON Products.CategoryID = Categories.CategoryID;\")"
   ]
  },
  {
   "cell_type": "code",
   "execution_count": 99,
   "id": "0f17f493",
   "metadata": {},
   "outputs": [
    {
     "name": "stdout",
     "output_type": "stream",
     "text": [
      "(1, 'Chais', 'Beverages')\n",
      "(2, 'Chang', 'Beverages')\n",
      "(3, 'Aniseed Syrup', 'Condiments')\n",
      "(4, \"Chef Anton's Cajun Seasoning\", 'Condiments')\n",
      "(5, \"Chef Anton's Gumbo Mix\", 'Condiments')\n"
     ]
    }
   ],
   "source": [
    "query(\"SELECT Products.ProductID, Products.ProductName, Categories.CategoryName FROM Products JOIN Categories ON Products.CategoryID = Categories.CategoryID;\")"
   ]
  },
  {
   "cell_type": "code",
   "execution_count": 101,
   "id": "a94b4324",
   "metadata": {},
   "outputs": [],
   "source": [
    "conn = sqlite3.connect('demo.db')\n",
    "cursor = conn.cursor()\n",
    "\n",
    "# 테이블 생성\n",
    "cursor.execute(\"\"\"\n",
    "CREATE TABLE IF NOT EXISTS Shippers (\n",
    "    ShipperID INTEGER PRIMARY KEY,\n",
    "    ShipperName TEXT,\n",
    "    Phone TEXT\n",
    ");\n",
    "\"\"\")\n",
    "\n",
    "# 데이터 삽입 (중복 방지)\n",
    "cursor.execute(\"SELECT COUNT(*) FROM Shippers\")\n",
    "if cursor.fetchone()[0] == 0:\n",
    "    cursor.executescript(\"\"\"\n",
    "    INSERT INTO Shippers (ShipperID, ShipperName, Phone) VALUES\n",
    "    (1, 'Speedy Express', '(503) 555-9831'),\n",
    "    (2, 'United Package', '(503) 555-3199'),\n",
    "    (3, 'Federal Shipping', '(503) 555-9931'),\n",
    "    (4, 'Quick Logistics', '(503) 555-0101'),\n",
    "    (5, 'Global Courier', '(503) 555-0202'),\n",
    "    (6, 'Lightning Freight', '(503) 555-0303'),\n",
    "    (7, 'Alpha Express', '(503) 555-0404'),\n",
    "    (8, 'BlueSky Delivery', '(503) 555-0505'),\n",
    "    (9, 'Pacific Freight', '(503) 555-0606'),\n",
    "    (10, 'TurboShip', '(503) 555-0707'),\n",
    "    (11, 'Greenline Shipping', '(503) 555-0808'),\n",
    "    (12, 'NexDay Logistics', '(503) 555-0909'),\n",
    "    (13, 'Orbit Express', '(503) 555-1010'),\n",
    "    (14, 'Metro Courier', '(503) 555-1111'),\n",
    "    (15, 'Echo Freight', '(503) 555-1212'),\n",
    "    (16, 'IronClad Delivery', '(503) 555-1313'),\n",
    "    (17, 'EagleShip', '(503) 555-1414'),\n",
    "    (18, 'RoadRunner Logistics', '(503) 555-1515'),\n",
    "    (19, 'Titan Couriers', '(503) 555-1616'),\n",
    "    (20, 'SwiftMove Express', '(503) 555-1717');\n",
    "    \"\"\")\n",
    "\n",
    "conn.commit()"
   ]
  },
  {
   "cell_type": "code",
   "execution_count": null,
   "id": "fee2208a",
   "metadata": {},
   "outputs": [
    {
     "name": "stdout",
     "output_type": "stream",
     "text": [
      "(10254, 'Comércio Mineiro', 'United Package')\n"
     ]
    }
   ],
   "source": [
    "query(\"SELECT Orders.OrderID, Customers.CustomerName, Shippers.ShipperName FROM ((Orders INNER JOIN Customers ON Orders.CustomerID = Customers.CustomerID) INNER JOIN Shippers ON Orders.ShipperID = Shippers.ShipperID);\")"
   ]
  },
  {
   "cell_type": "code",
   "execution_count": 104,
   "id": "22d4a0f0",
   "metadata": {},
   "outputs": [
    {
     "name": "stdout",
     "output_type": "stream",
     "text": [
      "('Alfreds Futterkiste', None)\n",
      "('Ana Trujillo Emparedados y helados', None)\n",
      "('Antonio Moreno Taquería', None)\n",
      "('Around the Horn', None)\n",
      "('Berglunds snabbköp', None)\n",
      "('Blauer See Delikatessen', None)\n",
      "('Blondel père et fils', None)\n",
      "(\"Bon app'\", None)\n",
      "('Bottom-Dollar Marketse', None)\n",
      "('Bólido Comidas preparadas', None)\n",
      "('Cactus Comidas para llevar', None)\n",
      "('Centro comercial Moctezuma', None)\n",
      "('Chop-suey Chinese', None)\n",
      "('Comércio Mineiro', 10254)\n",
      "('Consolidated Holdings', None)\n",
      "('Drachenblut Delikatessen', None)\n",
      "('Du monde entier', None)\n",
      "('Eastern Connection', None)\n",
      "('Ernst Handel', None)\n",
      "('Familia Arquibaldo', None)\n"
     ]
    }
   ],
   "source": [
    "query(\"\"\"SELECT Customers.CustomerName, Orders.OrderID\n",
    "FROM Customers\n",
    "LEFT JOIN Orders ON Customers.CustomerID = Orders.CustomerID\n",
    "ORDER BY Customers.CustomerName;\"\"\")"
   ]
  },
  {
   "cell_type": "code",
   "execution_count": 106,
   "id": "4b111311",
   "metadata": {},
   "outputs": [],
   "source": [
    "conn = sqlite3.connect('demo.db')\n",
    "cursor = conn.cursor()\n",
    "\n",
    "# 테이블 생성\n",
    "cursor.execute(\"\"\"\n",
    "CREATE TABLE IF NOT EXISTS Employees (\n",
    "    EmployeeID INTEGER PRIMARY KEY,\n",
    "    LastName TEXT,\n",
    "    FirstName TEXT,\n",
    "    BirthDate TEXT,\n",
    "    Photo TEXT\n",
    ");\n",
    "\"\"\")\n",
    "\n",
    "# 데이터 삽입 (중복 방지)\n",
    "cursor.execute(\"SELECT COUNT(*) FROM Employees\")\n",
    "if cursor.fetchone()[0] == 0:\n",
    "    cursor.executescript(\"\"\"\n",
    "    INSERT INTO Employees (EmployeeID, LastName, FirstName, BirthDate, Photo) VALUES\n",
    "    (1, 'Davolio', 'Nancy', '1968-12-08', 'EmpID1.pic'),\n",
    "    (2, 'Fuller', 'Andrew', '1952-02-19', 'EmpID2.pic'),\n",
    "    (3, 'Leverling', 'Janet', '1963-08-30', 'EmpID3.pic'),\n",
    "    (4, 'Peacock', 'Margaret', '1937-09-19', 'EmpID4.pic'),\n",
    "    (5, 'Buchanan', 'Steven', '1955-03-04', 'EmpID5.pic'),\n",
    "    (6, 'Suyama', 'Michael', '1963-07-02', 'EmpID6.pic'),\n",
    "    (7, 'King', 'Robert', '1960-05-29', 'EmpID7.pic'),\n",
    "    (8, 'Callahan', 'Laura', '1958-01-09', 'EmpID8.pic'),\n",
    "    (9, 'Dodsworth', 'Anne', '1966-01-27', 'EmpID9.pic'),\n",
    "    (10, 'Wong', 'Lily', '1980-06-14', 'EmpID10.pic'),\n",
    "    (11, 'Chen', 'James', '1975-09-22', 'EmpID11.pic'),\n",
    "    (12, 'Miller', 'Susan', '1972-12-03', 'EmpID12.pic'),\n",
    "    (13, 'Kim', 'Daniel', '1985-04-11', 'EmpID13.pic'),\n",
    "    (14, 'Park', 'Emily', '1990-02-18', 'EmpID14.pic'),\n",
    "    (15, 'Lee', 'Brian', '1979-11-01', 'EmpID15.pic'),\n",
    "    (16, 'Choi', 'Jessica', '1982-03-28', 'EmpID16.pic'),\n",
    "    (17, 'Nguyen', 'David', '1984-07-07', 'EmpID17.pic'),\n",
    "    (18, 'Patel', 'Ravi', '1983-10-13', 'EmpID18.pic'),\n",
    "    (19, 'Yamada', 'Hiroshi', '1971-08-05', 'EmpID19.pic'),\n",
    "    (20, 'Gonzalez', 'Maria', '1977-06-20', 'EmpID20.pic');\n",
    "    \"\"\")\n",
    "\n",
    "conn.commit()"
   ]
  },
  {
   "cell_type": "code",
   "execution_count": 107,
   "id": "1ad69041",
   "metadata": {},
   "outputs": [
    {
     "name": "stdout",
     "output_type": "stream",
     "text": [
      "(None, 'King', 'Robert')\n",
      "(None, 'Callahan', 'Laura')\n",
      "(None, 'Dodsworth', 'Anne')\n",
      "(None, 'Wong', 'Lily')\n",
      "(None, 'Chen', 'James')\n",
      "(None, 'Miller', 'Susan')\n",
      "(None, 'Kim', 'Daniel')\n",
      "(None, 'Park', 'Emily')\n",
      "(None, 'Lee', 'Brian')\n",
      "(None, 'Choi', 'Jessica')\n",
      "(None, 'Nguyen', 'David')\n",
      "(None, 'Patel', 'Ravi')\n",
      "(None, 'Yamada', 'Hiroshi')\n",
      "(None, 'Gonzalez', 'Maria')\n",
      "(10248, 'Buchanan', 'Steven')\n",
      "(10249, 'Suyama', 'Michael')\n",
      "(10250, 'Peacock', 'Margaret')\n",
      "(10251, 'Leverling', 'Janet')\n",
      "(10252, 'Peacock', 'Margaret')\n",
      "(10253, 'Leverling', 'Janet')\n",
      "(10254, 'Buchanan', 'Steven')\n",
      "(10255, 'Suyama', 'Michael')\n",
      "(10256, 'Leverling', 'Janet')\n",
      "(10257, 'Davolio', 'Nancy')\n",
      "(10258, 'Fuller', 'Andrew')\n",
      "(10259, 'Peacock', 'Margaret')\n",
      "(10260, 'Peacock', 'Margaret')\n",
      "(10261, 'Fuller', 'Andrew')\n",
      "(10262, 'Davolio', 'Nancy')\n",
      "(10263, 'Buchanan', 'Steven')\n",
      "(10264, 'Leverling', 'Janet')\n",
      "(10265, 'Fuller', 'Andrew')\n",
      "(10266, 'Peacock', 'Margaret')\n",
      "(10267, 'Suyama', 'Michael')\n"
     ]
    }
   ],
   "source": [
    "query(\"\"\"SELECT Orders.OrderID, Employees.LastName, Employees.FirstName\n",
    "FROM Orders\n",
    "RIGHT JOIN Employees ON Orders.EmployeeID = Employees.EmployeeID\n",
    "ORDER BY Orders.OrderID;\"\"\")"
   ]
  },
  {
   "cell_type": "code",
   "execution_count": 108,
   "id": "7717df75",
   "metadata": {},
   "outputs": [
    {
     "name": "stdout",
     "output_type": "stream",
     "text": [
      "(None, 10248)\n",
      "(None, 10249)\n",
      "(None, 10250)\n",
      "(None, 10251)\n",
      "(None, 10252)\n",
      "(None, 10253)\n",
      "(None, 10255)\n",
      "(None, 10256)\n",
      "(None, 10257)\n",
      "(None, 10258)\n",
      "(None, 10259)\n",
      "(None, 10260)\n",
      "(None, 10261)\n",
      "(None, 10262)\n",
      "(None, 10263)\n",
      "(None, 10264)\n",
      "(None, 10265)\n",
      "(None, 10266)\n",
      "(None, 10267)\n",
      "('Alfreds Futterkiste', None)\n",
      "('Ana Trujillo Emparedados y helados', None)\n",
      "('Antonio Moreno Taquería', None)\n",
      "('Around the Horn', None)\n",
      "('Berglunds snabbköp', None)\n",
      "('Blauer See Delikatessen', None)\n",
      "('Blondel père et fils', None)\n",
      "(\"Bon app'\", None)\n",
      "('Bottom-Dollar Marketse', None)\n",
      "('Bólido Comidas preparadas', None)\n",
      "('Cactus Comidas para llevar', None)\n",
      "('Centro comercial Moctezuma', None)\n",
      "('Chop-suey Chinese', None)\n",
      "('Comércio Mineiro', 10254)\n",
      "('Consolidated Holdings', None)\n",
      "('Drachenblut Delikatessen', None)\n",
      "('Du monde entier', None)\n",
      "('Eastern Connection', None)\n",
      "('Ernst Handel', None)\n",
      "('Familia Arquibaldo', None)\n"
     ]
    }
   ],
   "source": [
    "query(\"\"\"SELECT Customers.CustomerName, Orders.OrderID\n",
    "FROM Customers\n",
    "FULL OUTER JOIN Orders ON Customers.CustomerID=Orders.CustomerID\n",
    "ORDER BY Customers.CustomerName;\"\"\")"
   ]
  },
  {
   "cell_type": "code",
   "execution_count": 109,
   "id": "e74ee27b",
   "metadata": {},
   "outputs": [
    {
     "name": "stdout",
     "output_type": "stream",
     "text": [
      "('Around the Horn', 'Consolidated Holdings', 'London')\n",
      "('Around the Horn', 'Eastern Connection', 'London')\n",
      "('Consolidated Holdings', 'Around the Horn', 'London')\n",
      "('Consolidated Holdings', 'Eastern Connection', 'London')\n",
      "('Eastern Connection', 'Around the Horn', 'London')\n",
      "('Eastern Connection', 'Consolidated Holdings', 'London')\n",
      "('Ana Trujillo Emparedados y helados', 'Antonio Moreno Taquería', 'México D.F.')\n",
      "('Ana Trujillo Emparedados y helados', 'Centro comercial Moctezuma', 'México D.F.')\n",
      "('Antonio Moreno Taquería', 'Ana Trujillo Emparedados y helados', 'México D.F.')\n",
      "('Antonio Moreno Taquería', 'Centro comercial Moctezuma', 'México D.F.')\n",
      "('Centro comercial Moctezuma', 'Ana Trujillo Emparedados y helados', 'México D.F.')\n",
      "('Centro comercial Moctezuma', 'Antonio Moreno Taquería', 'México D.F.')\n"
     ]
    }
   ],
   "source": [
    "query(\"\"\"SELECT A.CustomerName AS CustomerName1, B.CustomerName AS CustomerName2, A.City\n",
    "FROM Customers A, Customers B\n",
    "WHERE A.CustomerID <> B.CustomerID\n",
    "AND A.City = B.City\n",
    "ORDER BY A.City;\"\"\")"
   ]
  },
  {
   "cell_type": "code",
   "execution_count": 110,
   "id": "b662d23e",
   "metadata": {},
   "outputs": [],
   "source": [
    "conn = sqlite3.connect('demo.db')\n",
    "cursor = conn.cursor()\n",
    "\n",
    "# 테이블 생성\n",
    "cursor.execute(\"\"\"\n",
    "CREATE TABLE IF NOT EXISTS Suppliers (\n",
    "    SupplierID INTEGER PRIMARY KEY,\n",
    "    SupplierName TEXT,\n",
    "    ContactName TEXT,\n",
    "    Address TEXT,\n",
    "    City TEXT,\n",
    "    PostalCode TEXT,\n",
    "    Country TEXT\n",
    ");\n",
    "\"\"\")\n",
    "\n",
    "# 데이터 삽입 (중복 방지)\n",
    "cursor.execute(\"SELECT COUNT(*) FROM Suppliers\")\n",
    "if cursor.fetchone()[0] == 0:\n",
    "    cursor.executescript(\"\"\"\n",
    "    INSERT INTO Suppliers (SupplierID, SupplierName, ContactName, Address, City, PostalCode, Country) VALUES\n",
    "    (1, 'Exotic Liquid', 'Charlotte Cooper', '49 Gilbert St.', 'London', 'EC1 4SD', 'UK'),\n",
    "    (2, 'New Orleans Cajun Delights', 'Shelley Burke', 'P.O. Box 78934', 'New Orleans', '70117', 'USA'),\n",
    "    (3, 'Grandma Kelly''s Homestead', 'Regina Murphy', '707 Oxford Rd.', 'Ann Arbor', '48104', 'USA'),\n",
    "    (4, 'Tokyo Traders', 'Yoshi Nagase', '9-8 Sekimai Musashino-shi', 'Tokyo', '100-0001', 'Japan'),\n",
    "    (5, 'Cooperativa de Quesos', 'Antonio del Valle Saavedra', 'Calle del Rosal 4', 'Oviedo', '33007', 'Spain'),\n",
    "    (6, 'Mayumi''s', 'Mayumi Ohno', '92 Setsuko Chuo-ku', 'Osaka', '545-0035', 'Japan'),\n",
    "    (7, 'Pavlova, Ltd.', 'Ian Devling', '74 Rose St. Moonie Ponds', 'Melbourne', '3058', 'Australia'),\n",
    "    (8, 'Specialty Biscuits, Ltd.', 'Peter Wilson', '29 King''s Way', 'Manchester', 'M14 GSD', 'UK'),\n",
    "    (9, 'PB Knäckebröd AB', 'Lars Peterson', 'Kaloadagatan 13', 'Göteborg', 'S-345 67', 'Sweden'),\n",
    "    (10, 'Refrescos Americanas LTDA', 'Carlos Diaz', 'Av. das Americanas 12.890', 'Sao Paulo', '54420-000', 'Brazil'),\n",
    "    (11, 'Heli Süßwaren GmbH & Co. KG', 'Petra Winkler', 'Tiergartenstraße 5', 'Berlin', '10785', 'Germany'),\n",
    "    (12, 'Zaanse Snoepfabriek', 'Dirk Luiten', 'Verkoopweg 12', 'Zaandam', '9999 ZZ', 'Netherlands'),\n",
    "    (13, 'Formaggi Fortini s.r.l.', 'Elio Rossi', 'Viale Dante, 75', 'Ravenna', '48100', 'Italy'),\n",
    "    (14, 'Nord-Ost-Fisch Handelsgesellschaft mbH', 'Sven Petersen', 'Hammerweg 123', 'Cuxhaven', '27478', 'Germany'),\n",
    "    (15, 'Norske Meierier', 'Beate Vileid', 'Hatlevegen 5', 'Sandvika', '1321', 'Norway'),\n",
    "    (16, 'Leka Trading', 'Chandra Leka', '471 Serangoon Rd.', 'Singapore', '218150', 'Singapore'),\n",
    "    (17, 'Lyngbysild', 'Lene Andersen', 'Lyngbyvej 24', 'København', '2100', 'Denmark'),\n",
    "    (18, 'Aux joyeux ecclésiastiques', 'Guylène Nodier', '203, Rue des Francs-Bourgeois', 'Paris', '75004', 'France'),\n",
    "    (19, 'Bigfoot Breweries', 'Cheryl Saylor', '3400 - 8th Avenue Suite 210', 'Bend', '97701', 'USA'),\n",
    "    (20, 'Svensk Sjöföda AB', 'Michael Björn', 'Brovallavägen 231', 'Stockholm', '113 42', 'Sweden');\n",
    "    \"\"\")\n",
    "\n",
    "conn.commit()"
   ]
  },
  {
   "cell_type": "code",
   "execution_count": 111,
   "id": "7748b4ec",
   "metadata": {},
   "outputs": [
    {
     "name": "stdout",
     "output_type": "stream",
     "text": [
      "('Aachen',)\n",
      "('Ann Arbor',)\n",
      "('Bend',)\n",
      "('Berlin',)\n",
      "('Bern',)\n",
      "('Buenos Aires',)\n",
      "('Cuxhaven',)\n",
      "('Graz',)\n",
      "('Göteborg',)\n",
      "('København',)\n",
      "('London',)\n",
      "('Luleå',)\n",
      "('Madrid',)\n",
      "('Manchester',)\n",
      "('Mannheim',)\n",
      "('Marseille',)\n",
      "('Melbourne',)\n",
      "('México D.F.',)\n",
      "('Nantes',)\n",
      "('New Orleans',)\n",
      "('Osaka',)\n",
      "('Oviedo',)\n",
      "('Paris',)\n",
      "('Ravenna',)\n",
      "('Rio de Janeiro',)\n",
      "('Sandvika',)\n",
      "('Sao Paulo',)\n",
      "('Singapore',)\n",
      "('Stockholm',)\n",
      "('Strasbourg',)\n",
      "('São Paulo',)\n",
      "('Tokyo',)\n",
      "('Tsawassen',)\n",
      "('Zaandam',)\n"
     ]
    }
   ],
   "source": [
    "query(\"\"\"SELECT City FROM Customers\n",
    "UNION\n",
    "SELECT City FROM Suppliers\n",
    "ORDER BY City;\"\"\")"
   ]
  },
  {
   "cell_type": "code",
   "execution_count": 112,
   "id": "da247e23",
   "metadata": {},
   "outputs": [
    {
     "name": "stdout",
     "output_type": "stream",
     "text": [
      "('Aachen',)\n",
      "('Ann Arbor',)\n",
      "('Bend',)\n",
      "('Berlin',)\n",
      "('Berlin',)\n",
      "('Bern',)\n",
      "('Buenos Aires',)\n",
      "('Cuxhaven',)\n",
      "('Graz',)\n",
      "('Göteborg',)\n",
      "('København',)\n",
      "('London',)\n",
      "('London',)\n",
      "('London',)\n",
      "('London',)\n",
      "('Luleå',)\n",
      "('Madrid',)\n",
      "('Manchester',)\n",
      "('Mannheim',)\n",
      "('Marseille',)\n",
      "('Melbourne',)\n",
      "('México D.F.',)\n",
      "('México D.F.',)\n",
      "('México D.F.',)\n",
      "('Nantes',)\n",
      "('New Orleans',)\n",
      "('Osaka',)\n",
      "('Oviedo',)\n",
      "('Paris',)\n",
      "('Ravenna',)\n",
      "('Rio de Janeiro',)\n",
      "('Sandvika',)\n",
      "('Sao Paulo',)\n",
      "('Singapore',)\n",
      "('Stockholm',)\n",
      "('Strasbourg',)\n",
      "('São Paulo',)\n",
      "('Tokyo',)\n",
      "('Tsawassen',)\n",
      "('Zaandam',)\n"
     ]
    }
   ],
   "source": [
    "query(\"\"\"SELECT City FROM Customers\n",
    "UNION ALL\n",
    "SELECT City FROM Suppliers\n",
    "ORDER BY City;\"\"\")"
   ]
  },
  {
   "cell_type": "code",
   "execution_count": 113,
   "id": "dc48139d",
   "metadata": {},
   "outputs": [
    {
     "name": "stdout",
     "output_type": "stream",
     "text": [
      "('Aachen', 'Germany')\n",
      "('Berlin', 'Germany')\n",
      "('Cuxhaven', 'Germany')\n",
      "('Mannheim', 'Germany')\n"
     ]
    }
   ],
   "source": [
    "query(\"\"\"SELECT City, Country FROM Customers\n",
    "WHERE Country='Germany'\n",
    "UNION\n",
    "SELECT City, Country FROM Suppliers\n",
    "WHERE Country='Germany'\n",
    "ORDER BY City;\"\"\")"
   ]
  },
  {
   "cell_type": "code",
   "execution_count": 114,
   "id": "617a079e",
   "metadata": {},
   "outputs": [
    {
     "name": "stdout",
     "output_type": "stream",
     "text": [
      "('Aachen', 'Germany')\n",
      "('Berlin', 'Germany')\n",
      "('Berlin', 'Germany')\n",
      "('Cuxhaven', 'Germany')\n",
      "('Mannheim', 'Germany')\n"
     ]
    }
   ],
   "source": [
    "query(\"\"\"SELECT City, Country FROM Customers\n",
    "WHERE Country='Germany'\n",
    "UNION ALL\n",
    "SELECT City, Country FROM Suppliers\n",
    "WHERE Country='Germany'\n",
    "ORDER BY City;\"\"\")"
   ]
  },
  {
   "cell_type": "code",
   "execution_count": 115,
   "id": "57371c8a",
   "metadata": {},
   "outputs": [
    {
     "name": "stdout",
     "output_type": "stream",
     "text": [
      "('Customer', 'Ana Trujillo', 'México D.F.', 'Mexico')\n",
      "('Customer', 'Ann Devon', 'London', 'UK')\n",
      "('Customer', 'Antonio Moreno', 'México D.F.', 'Mexico')\n",
      "('Customer', 'Aria Cruz', 'Rio de Janeiro', 'Brazil')\n",
      "('Customer', 'Christina Berglund', 'Luleå', 'Sweden')\n",
      "('Customer', 'Elizabeth Brown', 'London', 'UK')\n",
      "('Customer', 'Elizabeth Lincoln', 'Tsawassen', 'Canada')\n",
      "('Customer', 'Francisco Chang', 'México D.F.', 'Mexico')\n",
      "('Customer', 'Frédérique Citeaux', 'Strasbourg', 'France')\n",
      "('Customer', 'Hanna Moos', 'Mannheim', 'Germany')\n",
      "('Customer', 'Janine Labrune', 'Nantes', 'France')\n",
      "('Customer', 'Laurence Lebihan', 'Marseille', 'France')\n",
      "('Customer', 'Maria Anders', 'Berlin', 'Germany')\n",
      "('Customer', 'Martín Sommer', 'Madrid', 'Spain')\n",
      "('Customer', 'Patricio Simpson', 'Buenos Aires', 'Argentina')\n",
      "('Customer', 'Pedro Afonso', 'São Paulo', 'Brazil')\n",
      "('Customer', 'Roland Mendel', 'Graz', 'Austria')\n",
      "('Customer', 'Sven Ottlieb', 'Aachen', 'Germany')\n",
      "('Customer', 'Thomas Hardy', 'London', 'UK')\n",
      "('Customer', 'Yang Wang', 'Bern', 'Switzerland')\n",
      "('Supplier', 'Antonio del Valle Saavedra', 'Oviedo', 'Spain')\n",
      "('Supplier', 'Beate Vileid', 'Sandvika', 'Norway')\n",
      "('Supplier', 'Carlos Diaz', 'Sao Paulo', 'Brazil')\n",
      "('Supplier', 'Chandra Leka', 'Singapore', 'Singapore')\n",
      "('Supplier', 'Charlotte Cooper', 'London', 'UK')\n",
      "('Supplier', 'Cheryl Saylor', 'Bend', 'USA')\n",
      "('Supplier', 'Dirk Luiten', 'Zaandam', 'Netherlands')\n",
      "('Supplier', 'Elio Rossi', 'Ravenna', 'Italy')\n",
      "('Supplier', 'Guylène Nodier', 'Paris', 'France')\n",
      "('Supplier', 'Ian Devling', 'Melbourne', 'Australia')\n",
      "('Supplier', 'Lars Peterson', 'Göteborg', 'Sweden')\n",
      "('Supplier', 'Lene Andersen', 'København', 'Denmark')\n",
      "('Supplier', 'Mayumi Ohno', 'Osaka', 'Japan')\n",
      "('Supplier', 'Michael Björn', 'Stockholm', 'Sweden')\n",
      "('Supplier', 'Peter Wilson', 'Manchester', 'UK')\n",
      "('Supplier', 'Petra Winkler', 'Berlin', 'Germany')\n",
      "('Supplier', 'Regina Murphy', 'Ann Arbor', 'USA')\n",
      "('Supplier', 'Shelley Burke', 'New Orleans', 'USA')\n",
      "('Supplier', 'Sven Petersen', 'Cuxhaven', 'Germany')\n",
      "('Supplier', 'Yoshi Nagase', 'Tokyo', 'Japan')\n"
     ]
    }
   ],
   "source": [
    "query(\"\"\"SELECT 'Customer' AS Type, ContactName, City, Country\n",
    "FROM Customers\n",
    "UNION\n",
    "SELECT 'Supplier', ContactName, City, Country\n",
    "FROM Suppliers;\"\"\")"
   ]
  },
  {
   "cell_type": "code",
   "execution_count": 116,
   "id": "ae4224a7",
   "metadata": {},
   "outputs": [
    {
     "name": "stdout",
     "output_type": "stream",
     "text": [
      "(1, 'Argentina')\n",
      "(1, 'Austria')\n",
      "(2, 'Brazil')\n",
      "(1, 'Canada')\n",
      "(3, 'France')\n",
      "(3, 'Germany')\n",
      "(3, 'Mexico')\n",
      "(1, 'Spain')\n",
      "(1, 'Sweden')\n",
      "(1, 'Switzerland')\n",
      "(3, 'UK')\n"
     ]
    }
   ],
   "source": [
    "query(\"\"\"SELECT COUNT(CustomerID), Country\n",
    "FROM Customers\n",
    "GROUP BY Country;\"\"\")"
   ]
  },
  {
   "cell_type": "code",
   "execution_count": 117,
   "id": "965525c7",
   "metadata": {},
   "outputs": [
    {
     "name": "stdout",
     "output_type": "stream",
     "text": [
      "(3, 'UK')\n",
      "(3, 'Mexico')\n",
      "(3, 'Germany')\n",
      "(3, 'France')\n",
      "(2, 'Brazil')\n",
      "(1, 'Switzerland')\n",
      "(1, 'Sweden')\n",
      "(1, 'Spain')\n",
      "(1, 'Canada')\n",
      "(1, 'Austria')\n",
      "(1, 'Argentina')\n"
     ]
    }
   ],
   "source": [
    "query(\"\"\"SELECT COUNT(CustomerID), Country\n",
    "FROM Customers\n",
    "GROUP BY Country\n",
    "ORDER BY COUNT(CustomerID) DESC;\"\"\")"
   ]
  },
  {
   "cell_type": "code",
   "execution_count": 118,
   "id": "bf042b20",
   "metadata": {},
   "outputs": [
    {
     "name": "stdout",
     "output_type": "stream",
     "text": [
      "('Federal Shipping', 5)\n",
      "('Speedy Express', 6)\n",
      "('United Package', 9)\n"
     ]
    }
   ],
   "source": [
    "query(\"\"\"SELECT Shippers.ShipperName, COUNT(Orders.OrderID) AS NumberOfOrders FROM Orders\n",
    "LEFT JOIN Shippers ON Orders.ShipperID = Shippers.ShipperID\n",
    "GROUP BY ShipperName;\"\"\")"
   ]
  },
  {
   "cell_type": "code",
   "execution_count": 121,
   "id": "33f9a924",
   "metadata": {},
   "outputs": [
    {
     "name": "stdout",
     "output_type": "stream",
     "text": [
      "(3, 'France')\n",
      "(3, 'Germany')\n",
      "(3, 'Mexico')\n",
      "(3, 'UK')\n"
     ]
    }
   ],
   "source": [
    "query(\"\"\"SELECT COUNT(CustomerID), Country\n",
    "FROM Customers\n",
    "GROUP BY Country\n",
    "HAVING COUNT(CustomerID) > 2;\"\"\")"
   ]
  },
  {
   "cell_type": "code",
   "execution_count": 123,
   "id": "fa61586b",
   "metadata": {},
   "outputs": [
    {
     "name": "stdout",
     "output_type": "stream",
     "text": [
      "(3, 'UK')\n",
      "(3, 'Mexico')\n",
      "(3, 'Germany')\n",
      "(3, 'France')\n"
     ]
    }
   ],
   "source": [
    "query(\"\"\"SELECT COUNT(CustomerID), Country\n",
    "FROM Customers\n",
    "GROUP BY Country\n",
    "HAVING COUNT(CustomerID) > 2\n",
    "ORDER BY COUNT(CustomerID) DESC;\"\"\")"
   ]
  },
  {
   "cell_type": "code",
   "execution_count": 125,
   "id": "2898accc",
   "metadata": {},
   "outputs": [
    {
     "name": "stdout",
     "output_type": "stream",
     "text": [
      "('Leverling', 4)\n",
      "('Peacock', 5)\n"
     ]
    }
   ],
   "source": [
    "query(\"\"\"SELECT Employees.LastName, COUNT(Orders.OrderID) AS NumberOfOrders\n",
    "FROM (Orders\n",
    "INNER JOIN Employees ON Orders.EmployeeID = Employees.EmployeeID)\n",
    "GROUP BY LastName\n",
    "HAVING COUNT(Orders.OrderID) > 3;\"\"\")"
   ]
  },
  {
   "cell_type": "code",
   "execution_count": 130,
   "id": "80f32897",
   "metadata": {},
   "outputs": [
    {
     "name": "stdout",
     "output_type": "stream",
     "text": [
      "('Fuller', 3)\n"
     ]
    }
   ],
   "source": [
    "query(\"\"\"SELECT Employees.LastName, COUNT(Orders.OrderID) AS NumberOfOrders\n",
    "FROM Orders\n",
    "INNER JOIN Employees ON Orders.EmployeeID = Employees.EmployeeID\n",
    "WHERE LastName = 'Davolio' OR LastName = 'Fuller'\n",
    "GROUP BY LastName\n",
    "HAVING COUNT(Orders.OrderID) > 2;\"\"\")"
   ]
  },
  {
   "cell_type": "code",
   "execution_count": 131,
   "id": "7df3bde1",
   "metadata": {},
   "outputs": [
    {
     "name": "stdout",
     "output_type": "stream",
     "text": [
      "('Exotic Liquid',)\n"
     ]
    }
   ],
   "source": [
    "query(\"\"\"SELECT SupplierName\n",
    "FROM Suppliers\n",
    "WHERE EXISTS (SELECT ProductName FROM Products WHERE Products.SupplierID = Suppliers.supplierID AND Price < 20);\"\"\")"
   ]
  },
  {
   "cell_type": "code",
   "execution_count": 132,
   "id": "e9a10cd3",
   "metadata": {},
   "outputs": [
    {
     "name": "stdout",
     "output_type": "stream",
     "text": [
      "('New Orleans Cajun Delights',)\n"
     ]
    }
   ],
   "source": [
    "query(\"\"\"SELECT SupplierName\n",
    "FROM Suppliers\n",
    "WHERE EXISTS (SELECT ProductName FROM Products WHERE Products.SupplierID = Suppliers.supplierID AND Price = 22);\"\"\")"
   ]
  },
  {
   "cell_type": "code",
   "execution_count": null,
   "id": "23257cdf",
   "metadata": {},
   "outputs": [
    {
     "name": "stdout",
     "output_type": "stream",
     "text": [
      "('Chang',)\n",
      "('Aniseed Syrup',)\n"
     ]
    }
   ],
   "source": [
    "query(\"\"\"\n",
    "SELECT ProductName\n",
    "FROM Products\n",
    "WHERE ProductID IN (\n",
    "    SELECT ProductID\n",
    "    FROM OrderDetails\n",
    "    WHERE Quantity = 5\n",
    ");\"\"\")  # SQLlite에서는 ANY를 지원하지 않음"
   ]
  },
  {
   "cell_type": "code",
   "execution_count": 139,
   "id": "fa3c4201",
   "metadata": {},
   "outputs": [],
   "source": [
    "query(\"\"\"SELECT ProductName\n",
    "FROM Products\n",
    "WHERE ProductID IN\n",
    "  (SELECT ProductID\n",
    "  FROM OrderDetails\n",
    "  WHERE Quantity > 10);\"\"\")"
   ]
  },
  {
   "cell_type": "code",
   "execution_count": 140,
   "id": "61849ae1",
   "metadata": {},
   "outputs": [],
   "source": [
    "query(\"\"\"SELECT ProductName\n",
    "FROM Products\n",
    "WHERE ProductID IN\n",
    "  (SELECT ProductID\n",
    "  FROM OrderDetails\n",
    "  WHERE Quantity > 1000);\"\"\")"
   ]
  },
  {
   "cell_type": "code",
   "execution_count": 141,
   "id": "ce76347a",
   "metadata": {},
   "outputs": [
    {
     "name": "stdout",
     "output_type": "stream",
     "text": [
      "('Chais',)\n",
      "('Chang',)\n",
      "('Aniseed Syrup',)\n",
      "(\"Chef Anton's Cajun Seasoning\",)\n",
      "(\"Chef Anton's Gumbo Mix\",)\n"
     ]
    }
   ],
   "source": [
    "query(\"\"\"SELECT ALL ProductName\n",
    "FROM Products\n",
    "WHERE TRUE;\"\"\")"
   ]
  },
  {
   "cell_type": "code",
   "execution_count": 143,
   "id": "a2326553",
   "metadata": {},
   "outputs": [],
   "source": [
    "query(\"\"\"SELECT ProductName\n",
    "FROM Products\n",
    "WHERE ProductID IN (\n",
    "  SELECT ProductID\n",
    "  FROM OrderDetails\n",
    "  WHERE Quantity = 10\n",
    ")\n",
    "GROUP BY ProductID\n",
    "HAVING COUNT(*) = (\n",
    "  SELECT COUNT(DISTINCT ProductID)\n",
    "  FROM OrderDetails\n",
    "  WHERE Quantity = 10\n",
    ");\"\"\")  # SQLite는 ALL 지원 안함"
   ]
  },
  {
   "cell_type": "code",
   "execution_count": 145,
   "id": "0a8409ed",
   "metadata": {},
   "outputs": [],
   "source": [
    "query(\"\"\"\n",
    "CREATE TABLE CustomersBackup2017 AS\n",
    "SELECT * FROM Customers;\n",
    "\"\"\")    # SQLite에선 INTO 지원 안함"
   ]
  },
  {
   "cell_type": "code",
   "execution_count": 146,
   "id": "9f8e84c0",
   "metadata": {},
   "outputs": [],
   "source": [
    "query(\"\"\"CREATE TABLE CustomersGermany AS\n",
    "SELECT *\n",
    "FROM Customers\n",
    "WHERE Country = 'Germany';\"\"\")"
   ]
  },
  {
   "cell_type": "code",
   "execution_count": 148,
   "id": "6ca47643",
   "metadata": {},
   "outputs": [],
   "source": [
    "query(\"\"\"CREATE TABLE CustomersOrderBackup2017 AS\n",
    "SELECT Customers.CustomerName, Orders.OrderID\n",
    "FROM Customers\n",
    "LEFT JOIN Orders ON Customers.CustomerID = Orders.CustomerID;\"\"\")"
   ]
  },
  {
   "cell_type": "code",
   "execution_count": 149,
   "id": "8d8e3d82",
   "metadata": {},
   "outputs": [],
   "source": [
    "query(\"\"\"INSERT INTO Customers (CustomerName, City, Country)\n",
    "SELECT SupplierName, City, Country FROM Suppliers;\"\"\")"
   ]
  },
  {
   "cell_type": "code",
   "execution_count": 151,
   "id": "6dbc7fbd",
   "metadata": {},
   "outputs": [],
   "source": [
    "query(\"\"\"INSERT INTO Customers (CustomerName, ContactName, Address, City, PostalCode, Country)\n",
    "SELECT SupplierName, ContactName, Address, City, PostalCode, Country FROM Suppliers;\"\"\")"
   ]
  },
  {
   "cell_type": "code",
   "execution_count": 152,
   "id": "24810631",
   "metadata": {},
   "outputs": [],
   "source": [
    "query(\"\"\"INSERT INTO Customers (CustomerName, City, Country)\n",
    "SELECT SupplierName, City, Country FROM Suppliers\n",
    "WHERE Country='Germany';\"\"\")"
   ]
  },
  {
   "cell_type": "code",
   "execution_count": 153,
   "id": "9d9d91b4",
   "metadata": {},
   "outputs": [
    {
     "name": "stdout",
     "output_type": "stream",
     "text": [
      "(1001, 2, 'The quantity is under 30')\n",
      "(1001, 1, 'The quantity is under 30')\n",
      "(1002, 5, 'The quantity is under 30')\n",
      "(1003, 1, 'The quantity is under 30')\n",
      "(1003, 2, 'The quantity is under 30')\n",
      "(1004, 3, 'The quantity is under 30')\n",
      "(1004, 1, 'The quantity is under 30')\n",
      "(1005, 4, 'The quantity is under 30')\n",
      "(1006, 2, 'The quantity is under 30')\n",
      "(1007, 1, 'The quantity is under 30')\n",
      "(1007, 2, 'The quantity is under 30')\n",
      "(1008, 3, 'The quantity is under 30')\n",
      "(1009, 2, 'The quantity is under 30')\n",
      "(1010, 4, 'The quantity is under 30')\n",
      "(1011, 1, 'The quantity is under 30')\n",
      "(1011, 2, 'The quantity is under 30')\n",
      "(1012, 5, 'The quantity is under 30')\n",
      "(1013, 1, 'The quantity is under 30')\n",
      "(1013, 2, 'The quantity is under 30')\n",
      "(1014, 3, 'The quantity is under 30')\n"
     ]
    }
   ],
   "source": [
    "query(\"\"\"SELECT OrderID, Quantity,\n",
    "CASE\n",
    "    WHEN Quantity > 30 THEN 'The quantity is greater than 30'\n",
    "    WHEN Quantity = 30 THEN 'The quantity is 30'\n",
    "    ELSE 'The quantity is under 30'\n",
    "END AS QuantityText\n",
    "FROM OrderDetails;\"\"\")"
   ]
  },
  {
   "cell_type": "code",
   "execution_count": 154,
   "id": "bd43d987",
   "metadata": {},
   "outputs": [
    {
     "name": "stdout",
     "output_type": "stream",
     "text": [
      "('Drachenblut Delikatessen', 'Aachen', 'Germany')\n",
      "(\"Grandma Kelly's Homestead\", 'Ann Arbor', 'USA')\n",
      "(\"Grandma Kelly's Homestead\", 'Ann Arbor', 'USA')\n",
      "('Bigfoot Breweries', 'Bend', 'USA')\n",
      "('Bigfoot Breweries', 'Bend', 'USA')\n",
      "('Alfreds Futterkiste', 'Berlin', 'Germany')\n",
      "('Heli Süßwaren GmbH & Co. KG', 'Berlin', 'Germany')\n",
      "('Heli Süßwaren GmbH & Co. KG', 'Berlin', 'Germany')\n",
      "('Heli Süßwaren GmbH & Co. KG', 'Berlin', 'Germany')\n",
      "('Chop-suey Chinese', 'Bern', 'Switzerland')\n",
      "('Cactus Comidas para llevar', 'Buenos Aires', 'Argentina')\n",
      "('Nord-Ost-Fisch Handelsgesellschaft mbH', 'Cuxhaven', 'Germany')\n",
      "('Nord-Ost-Fisch Handelsgesellschaft mbH', 'Cuxhaven', 'Germany')\n",
      "('Nord-Ost-Fisch Handelsgesellschaft mbH', 'Cuxhaven', 'Germany')\n",
      "('Ernst Handel', 'Graz', 'Austria')\n",
      "('PB Knäckebröd AB', 'Göteborg', 'Sweden')\n",
      "('PB Knäckebröd AB', 'Göteborg', 'Sweden')\n",
      "('Lyngbysild', 'København', 'Denmark')\n",
      "('Lyngbysild', 'København', 'Denmark')\n",
      "('Around the Horn', 'London', 'UK')\n",
      "('Consolidated Holdings', 'London', 'UK')\n",
      "('Eastern Connection', 'London', 'UK')\n",
      "('Exotic Liquid', 'London', 'UK')\n",
      "('Exotic Liquid', 'London', 'UK')\n",
      "('Berglunds snabbköp', 'Luleå', 'Sweden')\n",
      "('Bólido Comidas preparadas', 'Madrid', 'Spain')\n",
      "('Specialty Biscuits, Ltd.', 'Manchester', 'UK')\n",
      "('Specialty Biscuits, Ltd.', 'Manchester', 'UK')\n",
      "('Blauer See Delikatessen', 'Mannheim', 'Germany')\n",
      "(\"Bon app'\", 'Marseille', 'France')\n",
      "('Pavlova, Ltd.', 'Melbourne', 'Australia')\n",
      "('Pavlova, Ltd.', 'Melbourne', 'Australia')\n",
      "('Ana Trujillo Emparedados y helados', 'México D.F.', 'Mexico')\n",
      "('Antonio Moreno Taquería', 'México D.F.', 'Mexico')\n",
      "('Centro comercial Moctezuma', 'México D.F.', 'Mexico')\n",
      "('Du monde entier', 'Nantes', 'France')\n",
      "('New Orleans Cajun Delights', 'New Orleans', 'USA')\n",
      "('New Orleans Cajun Delights', 'New Orleans', 'USA')\n",
      "(\"Mayumi's\", 'Osaka', 'Japan')\n",
      "(\"Mayumi's\", 'Osaka', 'Japan')\n",
      "('Cooperativa de Quesos', 'Oviedo', 'Spain')\n",
      "('Cooperativa de Quesos', 'Oviedo', 'Spain')\n",
      "('Aux joyeux ecclésiastiques', 'Paris', 'France')\n",
      "('Aux joyeux ecclésiastiques', 'Paris', 'France')\n",
      "('Formaggi Fortini s.r.l.', 'Ravenna', 'Italy')\n",
      "('Formaggi Fortini s.r.l.', 'Ravenna', 'Italy')\n",
      "('Familia Arquibaldo', 'Rio de Janeiro', 'Brazil')\n",
      "('Norske Meierier', 'Sandvika', 'Norway')\n",
      "('Norske Meierier', 'Sandvika', 'Norway')\n",
      "('Refrescos Americanas LTDA', 'Sao Paulo', 'Brazil')\n",
      "('Refrescos Americanas LTDA', 'Sao Paulo', 'Brazil')\n",
      "('Leka Trading', 'Singapore', 'Singapore')\n",
      "('Leka Trading', 'Singapore', 'Singapore')\n",
      "('Svensk Sjöföda AB', 'Stockholm', 'Sweden')\n",
      "('Svensk Sjöföda AB', 'Stockholm', 'Sweden')\n",
      "('Blondel père et fils', 'Strasbourg', 'France')\n",
      "('Comércio Mineiro', 'São Paulo', 'Brazil')\n",
      "('Tokyo Traders', 'Tokyo', 'Japan')\n",
      "('Tokyo Traders', 'Tokyo', 'Japan')\n",
      "('Bottom-Dollar Marketse', 'Tsawassen', 'Canada')\n",
      "('Zaanse Snoepfabriek', 'Zaandam', 'Netherlands')\n",
      "('Zaanse Snoepfabriek', 'Zaandam', 'Netherlands')\n"
     ]
    }
   ],
   "source": [
    "query(\"\"\"SELECT CustomerName, City, Country\n",
    "FROM Customers\n",
    "ORDER BY\n",
    "(CASE\n",
    "    WHEN City IS NULL THEN Country\n",
    "    ELSE City\n",
    "END);\"\"\")"
   ]
  },
  {
   "cell_type": "code",
   "execution_count": 157,
   "id": "c869110c",
   "metadata": {},
   "outputs": [],
   "source": [
    "# SQLite는 Stored procedure을 지원하지 않음"
   ]
  }
 ],
 "metadata": {
  "kernelspec": {
   "display_name": "minwoo",
   "language": "python",
   "name": "python3"
  },
  "language_info": {
   "codemirror_mode": {
    "name": "ipython",
    "version": 3
   },
   "file_extension": ".py",
   "mimetype": "text/x-python",
   "name": "python",
   "nbconvert_exporter": "python",
   "pygments_lexer": "ipython3",
   "version": "3.11.8"
  }
 },
 "nbformat": 4,
 "nbformat_minor": 5
}
